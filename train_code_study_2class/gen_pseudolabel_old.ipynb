{
 "cells": [
  {
   "cell_type": "code",
   "execution_count": 1,
   "metadata": {},
   "outputs": [
    {
     "name": "stderr",
     "output_type": "stream",
     "text": [
      "Global seed set to 42\n"
     ]
    },
    {
     "data": {
      "text/plain": "42"
     },
     "execution_count": 1,
     "metadata": {},
     "output_type": "execute_result"
    }
   ],
   "source": [
    "from torch.utils.data import DataLoader\n",
    "from omegaconf import OmegaConf\n",
    "from tqdm.auto import tqdm\n",
    "\n",
    "import os\n",
    "import torch\n",
    "import torchmetrics\n",
    "import numpy as np\n",
    "import pandas as pd\n",
    "import pytorch_lightning as pl\n",
    "import matplotlib.pyplot as plt\n",
    "\n",
    "from utils.etc import collate_fn, get_image_size_from_decoder_blocks\n",
    "from pl_script.unet_smp import LitUnetSmp\n",
    "from utils.augmentation import get_study_transform\n",
    "from dataset import COVIDDataset\n",
    "\n",
    "pl.seed_everything(42)"
   ]
  },
  {
   "cell_type": "code",
   "execution_count": 2,
   "metadata": {},
   "outputs": [],
   "source": [
    "CV = \"sgkf\"\n",
    "ROOT = \"./data-640\"\n",
    "DEVICE = \"cuda:2\"\n",
    "\n",
    "def get_fold_num(filename, fold_name=\"sgkf\"):\n",
    "  for i in filename.split(\"-\"):\n",
    "    if fold_name in i:\n",
    "      return int(i.replace(fold_name, \"\"))\n",
    "\n",
    "def load_config():\n",
    "  backbone_name = \"tu-tf_efficientnetv2_m\"\n",
    "  config_dict = OmegaConf.merge(OmegaConf.load(\"config.yaml\"), OmegaConf.load(\"model/unet_smp.yaml\"))\n",
    "  config_dict.model = \"unet_smp\"\n",
    "  config_dict.unet_smp.backbone_name = backbone_name\n",
    "  config_dict.unet_smp.classes = 2\n",
    "  config_dict.unet_smp.neck_type = \"F\"\n",
    "  return config_dict\n",
    "\n",
    "def get_batch(batch):\n",
    "  imgs, image_id, study_id, _, _, targets_study, _ = batch\n",
    "  imgs = [img.float() for img in imgs]\n",
    "  \n",
    "  imgs = torch.stack(imgs)\n",
    "  targets_study = torch.stack(targets_study)\n",
    "  \n",
    "  return imgs, targets_study, image_id, study_id"
   ]
  },
  {
   "cell_type": "code",
   "execution_count": 3,
   "metadata": {},
   "outputs": [
    {
     "name": "stderr",
     "output_type": "stream",
     "text": [
      "/root/siim-covid/utils/augmentation.py:92: FutureWarning: This class has been deprecated. Please use RandomBrightnessContrast\n",
      "  FutureWarning,\n",
      "/root/anaconda3/envs/siim-covid/lib/python3.7/site-packages/albumentations/augmentations/transforms.py:645: FutureWarning: This class has been deprecated. Please use CoarseDropout\n",
      "  FutureWarning,\n"
     ]
    },
    {
     "data": {
      "application/vnd.jupyter.widget-view+json": {
       "model_id": "15f4b925541b47699d6379ea9416685d",
       "version_major": 2,
       "version_minor": 0
      },
      "text/plain": "  0%|          | 0/283 [00:01<?, ?it/s]"
     },
     "metadata": {},
     "output_type": "display_data"
    },
    {
     "data": {
      "application/vnd.jupyter.widget-view+json": {
       "model_id": "a3807144635845bc924919e4d9491b2d",
       "version_major": 2,
       "version_minor": 0
      },
      "text/plain": "  0%|          | 0/301 [00:02<?, ?it/s]"
     },
     "metadata": {},
     "output_type": "display_data"
    },
    {
     "data": {
      "application/vnd.jupyter.widget-view+json": {
       "model_id": "2831cf2b7e6f4c7789ae621b75d85cce",
       "version_major": 2,
       "version_minor": 0
      },
      "text/plain": "  0%|          | 0/309 [00:02<?, ?it/s]"
     },
     "metadata": {},
     "output_type": "display_data"
    },
    {
     "data": {
      "application/vnd.jupyter.widget-view+json": {
       "model_id": "abba683ddb7a45b889316ca9fdfa61fd",
       "version_major": 2,
       "version_minor": 0
      },
      "text/plain": "  0%|          | 0/297 [00:02<?, ?it/s]"
     },
     "metadata": {},
     "output_type": "display_data"
    },
    {
     "data": {
      "application/vnd.jupyter.widget-view+json": {
       "model_id": "afa63bb43e7d425b82fb5b923443c6ef",
       "version_major": 2,
       "version_minor": 0
      },
      "text/plain": "  0%|          | 0/326 [00:02<?, ?it/s]"
     },
     "metadata": {},
     "output_type": "display_data"
    }
   ],
   "source": [
    "results = []\n",
    "for state_dict_filename in os.listdir(\"./pretrained/42\"):\n",
    "  if \".ckpt\" not in state_dict_filename:\n",
    "    continue\n",
    "  config = load_config()\n",
    "  \n",
    "  fold = get_fold_num(state_dict_filename)\n",
    "  val_df = pd.read_csv(f\"./pretrained/42/{fold}.csv\")\n",
    "  _, transform = get_study_transform(640)\n",
    "  mask_img_size = get_image_size_from_decoder_blocks(config.unet_smp.decoder_blocks, config.img_size)\n",
    "  dataset = COVIDDataset(root=ROOT, df=val_df, img_size=640, mask=\"both\", transform=transform, mask_img_size=mask_img_size)\n",
    "\n",
    "  checkpoint_path = os.path.join(\"./pretrained/42\", state_dict_filename)\n",
    "  pl_model = LitUnetSmp.load_from_checkpoint(checkpoint_path, config=config)\n",
    "  model = pl_model.model\n",
    "  model.eval()\n",
    "  model.to(DEVICE)\n",
    "\n",
    "  dataloader = DataLoader(dataset, batch_size=4,\n",
    "                        collate_fn=collate_fn, pin_memory=True, num_workers=16)\n",
    "\n",
    "  test_map = torchmetrics.BinnedAveragePrecision(num_classes=4)\n",
    "  test_map = test_map.to(DEVICE)\n",
    "  for batch in tqdm(dataloader):\n",
    "    inputs, targets, image_id, study_id = get_batch(batch)\n",
    "    inputs = inputs.to(DEVICE)\n",
    "    targets = targets.to(DEVICE)\n",
    "    \n",
    "    outputs = model(inputs)\n",
    "    \n",
    "    results += list(zip(image_id, study_id, (torch.softmax(outputs, dim=1).cpu().detach().numpy().tolist())))\n",
    "    \n",
    "    # test_map(torch.softmax(outputs, dim=1), targets)\n",
    "  # ap = test_map.compute()\n",
    "  # mean_ap = sum(ap) / len(ap)\n",
    "  # print(mean_ap)"
   ]
  },
  {
   "cell_type": "code",
   "execution_count": 4,
   "metadata": {},
   "outputs": [
    {
     "data": {
      "text/html": "<div>\n<style scoped>\n    .dataframe tbody tr th:only-of-type {\n        vertical-align: middle;\n    }\n\n    .dataframe tbody tr th {\n        vertical-align: top;\n    }\n\n    .dataframe thead th {\n        text-align: right;\n    }\n</style>\n<table border=\"1\" class=\"dataframe\">\n  <thead>\n    <tr style=\"text-align: right;\">\n      <th></th>\n      <th>id</th>\n      <th>study_id</th>\n      <th>psl_Negative for Pneumonia</th>\n      <th>psl_Typical Appearance</th>\n      <th>psl_Indeterminate Appearance</th>\n      <th>psl_Atypical Appearance</th>\n    </tr>\n  </thead>\n  <tbody>\n    <tr>\n      <th>0</th>\n      <td>bb4b1da810f3_image</td>\n      <td>0051d9b12e72_study</td>\n      <td>0.234519</td>\n      <td>0.281015</td>\n      <td>0.334334</td>\n      <td>0.150132</td>\n    </tr>\n    <tr>\n      <th>1</th>\n      <td>bf1f75117093_image</td>\n      <td>00908ffd2d08_study</td>\n      <td>0.891906</td>\n      <td>0.037111</td>\n      <td>0.063512</td>\n      <td>0.007471</td>\n    </tr>\n    <tr>\n      <th>2</th>\n      <td>92552b44c70c_image</td>\n      <td>00febcfee50b_study</td>\n      <td>0.059702</td>\n      <td>0.043282</td>\n      <td>0.132088</td>\n      <td>0.764928</td>\n    </tr>\n    <tr>\n      <th>3</th>\n      <td>55e22c0c5de0_image</td>\n      <td>0142feaef82f_study</td>\n      <td>0.783585</td>\n      <td>0.090400</td>\n      <td>0.111680</td>\n      <td>0.014335</td>\n    </tr>\n    <tr>\n      <th>4</th>\n      <td>204f98b6eaa0_image</td>\n      <td>015707c0e73f_study</td>\n      <td>0.062214</td>\n      <td>0.526540</td>\n      <td>0.294439</td>\n      <td>0.116806</td>\n    </tr>\n    <tr>\n      <th>...</th>\n      <td>...</td>\n      <td>...</td>\n      <td>...</td>\n      <td>...</td>\n      <td>...</td>\n      <td>...</td>\n    </tr>\n    <tr>\n      <th>6049</th>\n      <td>bb484ab7a8c6_image</td>\n      <td>ff0bf9cae3b3_study</td>\n      <td>0.097310</td>\n      <td>0.592212</td>\n      <td>0.250608</td>\n      <td>0.059870</td>\n    </tr>\n    <tr>\n      <th>6050</th>\n      <td>49c596c8b1a1_image</td>\n      <td>ff3bc8d91f5b_study</td>\n      <td>0.127436</td>\n      <td>0.689356</td>\n      <td>0.161916</td>\n      <td>0.021292</td>\n    </tr>\n    <tr>\n      <th>6051</th>\n      <td>bcdfd2f72125_image</td>\n      <td>ff3fc3faf1ca_study</td>\n      <td>0.733449</td>\n      <td>0.119203</td>\n      <td>0.106908</td>\n      <td>0.040441</td>\n    </tr>\n    <tr>\n      <th>6052</th>\n      <td>aabf3a11ea75_image</td>\n      <td>ff7ffd9c6c80_study</td>\n      <td>0.918736</td>\n      <td>0.023258</td>\n      <td>0.037839</td>\n      <td>0.020168</td>\n    </tr>\n    <tr>\n      <th>6053</th>\n      <td>84ed5f7f71bf_image</td>\n      <td>ffcb4630f46f_study</td>\n      <td>0.011239</td>\n      <td>0.872172</td>\n      <td>0.090800</td>\n      <td>0.025790</td>\n    </tr>\n  </tbody>\n</table>\n<p>6054 rows × 6 columns</p>\n</div>",
      "text/plain": "                      id            study_id  psl_Negative for Pneumonia  \\\n0     bb4b1da810f3_image  0051d9b12e72_study                    0.234519   \n1     bf1f75117093_image  00908ffd2d08_study                    0.891906   \n2     92552b44c70c_image  00febcfee50b_study                    0.059702   \n3     55e22c0c5de0_image  0142feaef82f_study                    0.783585   \n4     204f98b6eaa0_image  015707c0e73f_study                    0.062214   \n...                  ...                 ...                         ...   \n6049  bb484ab7a8c6_image  ff0bf9cae3b3_study                    0.097310   \n6050  49c596c8b1a1_image  ff3bc8d91f5b_study                    0.127436   \n6051  bcdfd2f72125_image  ff3fc3faf1ca_study                    0.733449   \n6052  aabf3a11ea75_image  ff7ffd9c6c80_study                    0.918736   \n6053  84ed5f7f71bf_image  ffcb4630f46f_study                    0.011239   \n\n      psl_Typical Appearance  psl_Indeterminate Appearance  \\\n0                   0.281015                      0.334334   \n1                   0.037111                      0.063512   \n2                   0.043282                      0.132088   \n3                   0.090400                      0.111680   \n4                   0.526540                      0.294439   \n...                      ...                           ...   \n6049                0.592212                      0.250608   \n6050                0.689356                      0.161916   \n6051                0.119203                      0.106908   \n6052                0.023258                      0.037839   \n6053                0.872172                      0.090800   \n\n      psl_Atypical Appearance  \n0                    0.150132  \n1                    0.007471  \n2                    0.764928  \n3                    0.014335  \n4                    0.116806  \n...                       ...  \n6049                 0.059870  \n6050                 0.021292  \n6051                 0.040441  \n6052                 0.020168  \n6053                 0.025790  \n\n[6054 rows x 6 columns]"
     },
     "execution_count": 4,
     "metadata": {},
     "output_type": "execute_result"
    }
   ],
   "source": [
    "import pandas as pd\n",
    "psl = pd.DataFrame(results).rename(columns={0: \"id\", 1: \"study_id\"})\n",
    "psl[[\"psl_Negative for Pneumonia\",\"psl_Typical Appearance\",\"psl_Indeterminate Appearance\",\"psl_Atypical Appearance\"]] = psl.pop(2).tolist()\n",
    "psl"
   ]
  },
  {
   "cell_type": "code",
   "execution_count": 7,
   "metadata": {},
   "outputs": [
    {
     "data": {
      "text/html": "<div>\n<style scoped>\n    .dataframe tbody tr th:only-of-type {\n        vertical-align: middle;\n    }\n\n    .dataframe tbody tr th {\n        vertical-align: top;\n    }\n\n    .dataframe thead th {\n        text-align: right;\n    }\n</style>\n<table border=\"1\" class=\"dataframe\">\n  <thead>\n    <tr style=\"text-align: right;\">\n      <th></th>\n      <th>id</th>\n      <th>boxes</th>\n      <th>label</th>\n      <th>StudyInstanceUID</th>\n      <th>Negative for Pneumonia</th>\n      <th>Typical Appearance</th>\n      <th>Indeterminate Appearance</th>\n      <th>Atypical Appearance</th>\n      <th>PatientID</th>\n    </tr>\n  </thead>\n  <tbody>\n    <tr>\n      <th>0</th>\n      <td>65761e66de9f_image</td>\n      <td>[{'x': 720.65215, 'y': 636.51048, 'width': 332...</td>\n      <td>opacity 1 720.65215 636.51048 1052.84563 1284....</td>\n      <td>00086460a852_study</td>\n      <td>0</td>\n      <td>1</td>\n      <td>0</td>\n      <td>0</td>\n      <td>7d3bf0aef747</td>\n    </tr>\n    <tr>\n      <th>1</th>\n      <td>51759b5579bc_image</td>\n      <td>NaN</td>\n      <td>none 1 0 0 1 1</td>\n      <td>000c9c05fd14_study</td>\n      <td>0</td>\n      <td>0</td>\n      <td>0</td>\n      <td>1</td>\n      <td>2c00dc1ead80</td>\n    </tr>\n    <tr>\n      <th>2</th>\n      <td>f6293b1c49e2_image</td>\n      <td>NaN</td>\n      <td>none 1 0 0 1 1</td>\n      <td>00292f8c37bd_study</td>\n      <td>1</td>\n      <td>0</td>\n      <td>0</td>\n      <td>0</td>\n      <td>f942cf0989ff</td>\n    </tr>\n    <tr>\n      <th>3</th>\n      <td>3019399c31f4_image</td>\n      <td>NaN</td>\n      <td>none 1 0 0 1 1</td>\n      <td>005057b3f880_study</td>\n      <td>1</td>\n      <td>0</td>\n      <td>0</td>\n      <td>0</td>\n      <td>f1894c76ef7b</td>\n    </tr>\n    <tr>\n      <th>4</th>\n      <td>bb4b1da810f3_image</td>\n      <td>[{'x': 812.54698, 'y': 1376.41291, 'width': 62...</td>\n      <td>opacity 1 812.54698 1376.41291 1435.14793 1806...</td>\n      <td>0051d9b12e72_study</td>\n      <td>0</td>\n      <td>0</td>\n      <td>0</td>\n      <td>1</td>\n      <td>e2dbb0ae5e50</td>\n    </tr>\n    <tr>\n      <th>...</th>\n      <td>...</td>\n      <td>...</td>\n      <td>...</td>\n      <td>...</td>\n      <td>...</td>\n      <td>...</td>\n      <td>...</td>\n      <td>...</td>\n      <td>...</td>\n    </tr>\n    <tr>\n      <th>6049</th>\n      <td>84ed5f7f71bf_image</td>\n      <td>[{'x': 1721.27651, 'y': 974.09667, 'width': 12...</td>\n      <td>opacity 1 1721.27651 974.09667 2999.21998 2681...</td>\n      <td>ffcb4630f46f_study</td>\n      <td>0</td>\n      <td>1</td>\n      <td>0</td>\n      <td>0</td>\n      <td>e67df835b17d</td>\n    </tr>\n    <tr>\n      <th>6050</th>\n      <td>e6215d0188e5_image</td>\n      <td>[{'x': 364.93056, 'y': 870.04017, 'width': 731...</td>\n      <td>opacity 1 364.93056 870.04017 1096.13908 2053....</td>\n      <td>ffe4d6e8fbb0_study</td>\n      <td>0</td>\n      <td>1</td>\n      <td>0</td>\n      <td>0</td>\n      <td>a66dba7d222a</td>\n    </tr>\n    <tr>\n      <th>6051</th>\n      <td>7d27b1bb3987_image</td>\n      <td>[{'x': 28.48292, 'y': 828.48474, 'width': 1116...</td>\n      <td>opacity 1 28.48292 828.48474 1145.01081 2296.7...</td>\n      <td>ffe94fcb14fa_study</td>\n      <td>0</td>\n      <td>1</td>\n      <td>0</td>\n      <td>0</td>\n      <td>1af09f44436b</td>\n    </tr>\n    <tr>\n      <th>6052</th>\n      <td>52478e480a15_image</td>\n      <td>[{'x': 425.81211, 'y': 424.86147, 'width': 528...</td>\n      <td>opacity 1 425.81211 424.86147 953.95118 1579.3...</td>\n      <td>ffebf1ef4a9c_study</td>\n      <td>0</td>\n      <td>1</td>\n      <td>0</td>\n      <td>0</td>\n      <td>95680c66c89a</td>\n    </tr>\n    <tr>\n      <th>6053</th>\n      <td>8a80cfa63a23_image</td>\n      <td>[{'x': 949.33503, 'y': 1495.82807, 'width': 71...</td>\n      <td>opacity 1 949.33503 1495.82807 1666.45264 2784...</td>\n      <td>fff649d65f62_study</td>\n      <td>0</td>\n      <td>1</td>\n      <td>0</td>\n      <td>0</td>\n      <td>eac4a21146e4</td>\n    </tr>\n  </tbody>\n</table>\n<p>6054 rows × 9 columns</p>\n</div>",
      "text/plain": "                      id                                              boxes  \\\n0     65761e66de9f_image  [{'x': 720.65215, 'y': 636.51048, 'width': 332...   \n1     51759b5579bc_image                                                NaN   \n2     f6293b1c49e2_image                                                NaN   \n3     3019399c31f4_image                                                NaN   \n4     bb4b1da810f3_image  [{'x': 812.54698, 'y': 1376.41291, 'width': 62...   \n...                  ...                                                ...   \n6049  84ed5f7f71bf_image  [{'x': 1721.27651, 'y': 974.09667, 'width': 12...   \n6050  e6215d0188e5_image  [{'x': 364.93056, 'y': 870.04017, 'width': 731...   \n6051  7d27b1bb3987_image  [{'x': 28.48292, 'y': 828.48474, 'width': 1116...   \n6052  52478e480a15_image  [{'x': 425.81211, 'y': 424.86147, 'width': 528...   \n6053  8a80cfa63a23_image  [{'x': 949.33503, 'y': 1495.82807, 'width': 71...   \n\n                                                  label    StudyInstanceUID  \\\n0     opacity 1 720.65215 636.51048 1052.84563 1284....  00086460a852_study   \n1                                        none 1 0 0 1 1  000c9c05fd14_study   \n2                                        none 1 0 0 1 1  00292f8c37bd_study   \n3                                        none 1 0 0 1 1  005057b3f880_study   \n4     opacity 1 812.54698 1376.41291 1435.14793 1806...  0051d9b12e72_study   \n...                                                 ...                 ...   \n6049  opacity 1 1721.27651 974.09667 2999.21998 2681...  ffcb4630f46f_study   \n6050  opacity 1 364.93056 870.04017 1096.13908 2053....  ffe4d6e8fbb0_study   \n6051  opacity 1 28.48292 828.48474 1145.01081 2296.7...  ffe94fcb14fa_study   \n6052  opacity 1 425.81211 424.86147 953.95118 1579.3...  ffebf1ef4a9c_study   \n6053  opacity 1 949.33503 1495.82807 1666.45264 2784...  fff649d65f62_study   \n\n      Negative for Pneumonia  Typical Appearance  Indeterminate Appearance  \\\n0                          0                   1                         0   \n1                          0                   0                         0   \n2                          1                   0                         0   \n3                          1                   0                         0   \n4                          0                   0                         0   \n...                      ...                 ...                       ...   \n6049                       0                   1                         0   \n6050                       0                   1                         0   \n6051                       0                   1                         0   \n6052                       0                   1                         0   \n6053                       0                   1                         0   \n\n      Atypical Appearance     PatientID  \n0                       0  7d3bf0aef747  \n1                       1  2c00dc1ead80  \n2                       0  f942cf0989ff  \n3                       0  f1894c76ef7b  \n4                       1  e2dbb0ae5e50  \n...                   ...           ...  \n6049                    0  e67df835b17d  \n6050                    0  a66dba7d222a  \n6051                    0  1af09f44436b  \n6052                    0  95680c66c89a  \n6053                    0  eac4a21146e4  \n\n[6054 rows x 9 columns]"
     },
     "execution_count": 7,
     "metadata": {},
     "output_type": "execute_result"
    }
   ],
   "source": [
    "train_df = pd.read_csv(\"/root/siim-covid/data-640/merged_drop_multi_image_study.csv\")\n",
    "train_df.pop(\"Unnamed: 0\")\n",
    "train_df"
   ]
  },
  {
   "cell_type": "code",
   "execution_count": 9,
   "metadata": {},
   "outputs": [],
   "source": [
    "train_df.merge(psl, on=\"id\", suffixes=('', '_dup')).to_csv(\"./data-640/train_psl.csv\", index=False)"
   ]
  },
  {
   "cell_type": "code",
   "execution_count": null,
   "metadata": {},
   "outputs": [],
   "source": []
  }
 ],
 "metadata": {
  "kernelspec": {
   "display_name": "Python 3.7.10 64-bit ('siim-covid': conda)",
   "name": "python3710jvsc74a57bd055da4bfabaa72f6d23e190de73e880f50e1e61f38162ba3c994fd2cd39574748"
  },
  "language_info": {
   "name": "python",
   "version": ""
  },
  "metadata": {
   "interpreter": {
    "hash": "55da4bfabaa72f6d23e190de73e880f50e1e61f38162ba3c994fd2cd39574748"
   }
  },
  "orig_nbformat": 2
 },
 "nbformat": 4,
 "nbformat_minor": 2
}