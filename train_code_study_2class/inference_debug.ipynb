{
 "metadata": {
  "language_info": {
   "codemirror_mode": {
    "name": "ipython",
    "version": 3
   },
   "file_extension": ".py",
   "mimetype": "text/x-python",
   "name": "python",
   "nbconvert_exporter": "python",
   "pygments_lexer": "ipython3",
   "version": "3.7.10"
  },
  "orig_nbformat": 2,
  "kernelspec": {
   "name": "python3710jvsc74a57bd055da4bfabaa72f6d23e190de73e880f50e1e61f38162ba3c994fd2cd39574748",
   "display_name": "Python 3.7.10 64-bit ('siim-covid': conda)"
  },
  "metadata": {
   "interpreter": {
    "hash": "55da4bfabaa72f6d23e190de73e880f50e1e61f38162ba3c994fd2cd39574748"
   }
  }
 },
 "nbformat": 4,
 "nbformat_minor": 2,
 "cells": [
  {
   "cell_type": "code",
   "execution_count": 1,
   "metadata": {},
   "outputs": [],
   "source": [
    "import pandas as pd\n",
    "from dataset import COVIDDataset\n",
    "from utils.etc import split_df, collate_fn\n",
    "from utils.augmentation import get_study_transform\n",
    "import torchvision.transforms as T\n",
    "import torch.nn.functional as F\n",
    "import pandas as pd\n",
    "import numpy as np\n",
    "import matplotlib.pyplot as plt\n",
    "from omegaconf import OmegaConf\n",
    "from pl_script.unet_smp import LitUnetSmp\n",
    "from pytorch_lightning.core.datamodule import LightningDataModule\n",
    "import pytorch_lightning as pl\n",
    "from torch.utils.data import DataLoader\n",
    "import torch"
   ]
  },
  {
   "cell_type": "code",
   "execution_count": 2,
   "metadata": {},
   "outputs": [],
   "source": [
    "class MyDataModule(LightningDataModule):\n",
    "    def __init__(self):\n",
    "        super().__init__()\n",
    "    # def setup(self, stage):\n",
    "    def test_dataloader(self):\n",
    "        root = \"./data-512\"\n",
    "        train_df = pd.read_csv(os.path.join(root, \"merged_drop_multi_image_study.csv\"))\n",
    "        train_df, val_df = split_df(train_df, 8888, 0)\n",
    "        _, transform = get_study_transform(512)\n",
    "        dataset = COVIDDataset(root=root, df=train_df[:2], img_size=512, mask=\"both\", transform=transform, mask_img_size=128, use_cache=False)\n",
    "        return DataLoader(dataset, batch_size=2, collate_fn=collate_fn, pin_memory=True, num_workers=8)"
   ]
  },
  {
   "cell_type": "code",
   "execution_count": 3,
   "metadata": {},
   "outputs": [],
   "source": [
    "filename = \"densenet169-512-aug-epoch=04-sgkf4-val_loss=0.7285.ckpt\""
   ]
  },
  {
   "cell_type": "code",
   "execution_count": 4,
   "metadata": {},
   "outputs": [],
   "source": [
    "target_ckpt_path = f\"/root/siim-covid/pl_output/{filename}\"\n",
    "backbone_name = target_ckpt_path.split(\"/\")[-1].split(\"-\")[0].replace(\"_\",\"-\")\n",
    "config_dict = OmegaConf.merge(OmegaConf.load(\"config.yaml\"), OmegaConf.load(\"model/unet_smp.yaml\"))\n",
    "config_dict.model = \"unet_smp\"\n",
    "config_dict.unet_smp.backbone_name = backbone_name\n",
    "config_dict.unet_smp.classes = 2\n",
    "\n",
    "model = LitUnetSmp.load_from_checkpoint(target_ckpt_path, config=config_dict)"
   ]
  },
  {
   "cell_type": "code",
   "execution_count": 5,
   "metadata": {},
   "outputs": [
    {
     "output_type": "stream",
     "name": "stderr",
     "text": [
      "GPU available: True, used: True\n",
      "TPU available: False, using: 0 TPU cores\n",
      "/root/siim-covid/utils/augmentation.py:92: FutureWarning: This class has been deprecated. Please use RandomBrightnessContrast\n",
      "  FutureWarning,\n",
      "/root/anaconda3/envs/siim-covid/lib/python3.7/site-packages/albumentations/augmentations/transforms.py:645: FutureWarning: This class has been deprecated. Please use CoarseDropout\n",
      "  FutureWarning,\n",
      "LOCAL_RANK: 0 - CUDA_VISIBLE_DEVICES: [0,1,2]\n",
      "/root/siim-covid/utils/augmentation.py:92: FutureWarning: This class has been deprecated. Please use RandomBrightnessContrast\n",
      "  FutureWarning,\n",
      "/root/anaconda3/envs/siim-covid/lib/python3.7/site-packages/albumentations/augmentations/transforms.py:645: FutureWarning: This class has been deprecated. Please use CoarseDropout\n",
      "  FutureWarning,\n"
     ]
    },
    {
     "output_type": "display_data",
     "data": {
      "text/plain": "Testing: 0it [00:00, ?it/s]",
      "application/vnd.jupyter.widget-view+json": {
       "version_major": 2,
       "version_minor": 0,
       "model_id": "a9ccc6d5f21848208491e29c24f1ce77"
      }
     },
     "metadata": {}
    },
    {
     "output_type": "stream",
     "name": "stderr",
     "text": [
      "/root/siim-covid/pl_script/unet_smp.py:202: UserWarning: Implicit dimension choice for softmax has been deprecated. Change the call to include dim=X as an argument.\n",
      "  print(F.softmax(outputs))\n",
      "/root/anaconda3/envs/siim-covid/lib/python3.7/site-packages/pytorch_lightning/core/step_result.py:115: UserWarning: To copy construct from a tensor, it is recommended to use sourceTensor.clone().detach() or sourceTensor.clone().detach().requires_grad_(True), rather than torch.tensor(sourceTensor).\n",
      "  value = torch.tensor(value, device=device, dtype=torch.float)\n",
      "tensor([[0.1664, 0.3153, 0.3093, 0.2090],\n",
      "        [0.0344, 0.0132, 0.0465, 0.9058]], device='cuda:1')\n",
      "--------------------------------------------------------------------------------\n",
      "DATALOADER:0 TEST RESULTS\n",
      "{'test_loss': 0.518170177936554,\n",
      " 'test_loss_cls': 0.6265528798103333,\n",
      " 'test_loss_seg': 0.40978750586509705,\n",
      " 'test_mAP': 0.4999995231628418,\n",
      " 'test_mAP_epoch': 0.4999995231628418}\n",
      "--------------------------------------------------------------------------------\n"
     ]
    },
    {
     "output_type": "execute_result",
     "data": {
      "text/plain": [
       "[{'test_loss_cls': 0.6265528798103333,\n",
       "  'test_mAP': 0.4999995231628418,\n",
       "  'test_loss_seg': 0.40978750586509705,\n",
       "  'test_loss': 0.518170177936554,\n",
       "  'test_mAP_epoch': 0.4999995231628418}]"
      ]
     },
     "metadata": {},
     "execution_count": 5
    }
   ],
   "source": [
    "trainer = pl.Trainer(\n",
    "    # precision=16,\n",
    "    deterministic=True,\n",
    "    check_val_every_n_epoch=1,\n",
    "    gpus=[1],\n",
    "    weights_summary=\"top\",\n",
    "    # accelerator='ddp_spawn',\n",
    "    # plugins=DDPPlugin(find_unused_parameters=False),\n",
    ")\n",
    "model.freeze()\n",
    "trainer.test(model=model, datamodule=MyDataModule())"
   ]
  },
  {
   "cell_type": "code",
   "execution_count": 6,
   "metadata": {},
   "outputs": [],
   "source": [
    "model_path = f\"/root/siim-covid/output/study-unet-smp/{filename}\""
   ]
  },
  {
   "cell_type": "code",
   "execution_count": 7,
   "metadata": {},
   "outputs": [],
   "source": [
    "from model.unet_smp import SMPModel\n",
    "\n",
    "class dotdict(dict):\n",
    "    \"\"\"dot.notation access to dictionary attributes\"\"\"\n",
    "    __getattr__ = dict.get\n",
    "    __setattr__ = dict.__setitem__\n",
    "    __delattr__ = dict.__delitem__\n",
    "    \n",
    "config = dotdict({\n",
    "    \"model_name\": \"unet_smp\",\n",
    "    \"unet_smp\": dotdict({\n",
    "      \"backbone_name\": model_path.split(\"/\")[-1].split(\"-\")[0].replace(\"_\",\"-\"),\n",
    "      \"model_type\": \"unetplusplus\",\n",
    "      \"neck_type\": \"D\",\n",
    "      \"gem_pooling\": False,\n",
    "      \"hidden_dim\": 512,\n",
    "      \"encoder_weights\": \"imagenet\",\n",
    "      \"mask_type\": \"lung\",\n",
    "      \"decoder_blocks\": 3,\n",
    "      \"decoder_channels\": None,\n",
    "      \"classes\": 2,\n",
    "    }),\n",
    "})\n",
    "\n",
    "model = SMPModel(config.unet_smp)\n",
    "model.load_state_dict(torch.load(model_path)) \n",
    "model.to(\"cuda:1\")\n",
    "model.eval()\n",
    "None"
   ]
  },
  {
   "cell_type": "code",
   "execution_count": 10,
   "metadata": {},
   "outputs": [
    {
     "output_type": "stream",
     "name": "stderr",
     "text": [
      "/root/siim-covid/utils/augmentation.py:92: FutureWarning: This class has been deprecated. Please use RandomBrightnessContrast\n  FutureWarning,\n/root/anaconda3/envs/siim-covid/lib/python3.7/site-packages/albumentations/augmentations/transforms.py:645: FutureWarning: This class has been deprecated. Please use CoarseDropout\n  FutureWarning,\nipykernel_launcher:10: UserWarning: Implicit dimension choice for softmax has been deprecated. Change the call to include dim=X as an argument.\n"
     ]
    },
    {
     "output_type": "execute_result",
     "data": {
      "text/plain": [
       "tensor([[0.1664, 0.3153, 0.3093, 0.2090]], device='cuda:1',\n",
       "       grad_fn=<SoftmaxBackward>)"
      ]
     },
     "metadata": {},
     "execution_count": 10
    }
   ],
   "source": [
    "root = \"./data-512\"\n",
    "train_df = pd.read_csv(os.path.join(root, \"merged_drop_multi_image_study.csv\"))\n",
    "train_df, val_df = split_df(train_df, 8888, 0)\n",
    "_, transform = get_study_transform(512)\n",
    "dataset = COVIDDataset(root=root, df=train_df[:2], img_size=512, mask=\"both\", transform=transform, mask_img_size=128, use_cache=False)\n",
    "\n",
    "imgs, _, _, boxes, targets_image, targets_study, masks = dataset[0]\n",
    "imgs = imgs.float().unsqueeze(0)\n",
    "imgs = imgs.to(\"cuda:1\")\n",
    "F.softmax(model(imgs))"
   ]
  },
  {
   "cell_type": "code",
   "execution_count": 11,
   "metadata": {},
   "outputs": [
    {
     "output_type": "execute_result",
     "data": {
      "text/plain": [
       "   Unnamed: 0                  id  \\\n",
       "0           0  65761e66de9f_image   \n",
       "1           1  51759b5579bc_image   \n",
       "\n",
       "                                               boxes  \\\n",
       "0  [{'x': 720.65215, 'y': 636.51048, 'width': 332...   \n",
       "1                                                NaN   \n",
       "\n",
       "                                               label    StudyInstanceUID  \\\n",
       "0  opacity 1 720.65215 636.51048 1052.84563 1284....  00086460a852_study   \n",
       "1                                     none 1 0 0 1 1  000c9c05fd14_study   \n",
       "\n",
       "   Negative for Pneumonia  Typical Appearance  Indeterminate Appearance  \\\n",
       "0                       0                   1                         0   \n",
       "1                       0                   0                         0   \n",
       "\n",
       "   Atypical Appearance     PatientID  \n",
       "0                    0  7d3bf0aef747  \n",
       "1                    1  2c00dc1ead80  "
      ],
      "text/html": "<div>\n<style scoped>\n    .dataframe tbody tr th:only-of-type {\n        vertical-align: middle;\n    }\n\n    .dataframe tbody tr th {\n        vertical-align: top;\n    }\n\n    .dataframe thead th {\n        text-align: right;\n    }\n</style>\n<table border=\"1\" class=\"dataframe\">\n  <thead>\n    <tr style=\"text-align: right;\">\n      <th></th>\n      <th>Unnamed: 0</th>\n      <th>id</th>\n      <th>boxes</th>\n      <th>label</th>\n      <th>StudyInstanceUID</th>\n      <th>Negative for Pneumonia</th>\n      <th>Typical Appearance</th>\n      <th>Indeterminate Appearance</th>\n      <th>Atypical Appearance</th>\n      <th>PatientID</th>\n    </tr>\n  </thead>\n  <tbody>\n    <tr>\n      <th>0</th>\n      <td>0</td>\n      <td>65761e66de9f_image</td>\n      <td>[{'x': 720.65215, 'y': 636.51048, 'width': 332...</td>\n      <td>opacity 1 720.65215 636.51048 1052.84563 1284....</td>\n      <td>00086460a852_study</td>\n      <td>0</td>\n      <td>1</td>\n      <td>0</td>\n      <td>0</td>\n      <td>7d3bf0aef747</td>\n    </tr>\n    <tr>\n      <th>1</th>\n      <td>1</td>\n      <td>51759b5579bc_image</td>\n      <td>NaN</td>\n      <td>none 1 0 0 1 1</td>\n      <td>000c9c05fd14_study</td>\n      <td>0</td>\n      <td>0</td>\n      <td>0</td>\n      <td>1</td>\n      <td>2c00dc1ead80</td>\n    </tr>\n  </tbody>\n</table>\n</div>"
     },
     "metadata": {},
     "execution_count": 11
    }
   ],
   "source": [
    "train_df[:2]"
   ]
  },
  {
   "cell_type": "code",
   "execution_count": 13,
   "metadata": {},
   "outputs": [
    {
     "output_type": "execute_result",
     "data": {
      "text/plain": [
       "   Unnamed: 0                  id  \\\n",
       "0           0  65761e66de9f_image   \n",
       "1           1  51759b5579bc_image   \n",
       "\n",
       "                                               boxes  \\\n",
       "0  [{'x': 720.65215, 'y': 636.51048, 'width': 332...   \n",
       "1                                                NaN   \n",
       "\n",
       "                                               label    StudyInstanceUID  \\\n",
       "0  opacity 1 720.65215 636.51048 1052.84563 1284....  00086460a852_study   \n",
       "1                                     none 1 0 0 1 1  000c9c05fd14_study   \n",
       "\n",
       "   Negative for Pneumonia  Typical Appearance  Indeterminate Appearance  \\\n",
       "0                       0                   1                         0   \n",
       "1                       0                   0                         0   \n",
       "\n",
       "   Atypical Appearance     PatientID  \n",
       "0                    0  7d3bf0aef747  \n",
       "1                    1  2c00dc1ead80  "
      ],
      "text/html": "<div>\n<style scoped>\n    .dataframe tbody tr th:only-of-type {\n        vertical-align: middle;\n    }\n\n    .dataframe tbody tr th {\n        vertical-align: top;\n    }\n\n    .dataframe thead th {\n        text-align: right;\n    }\n</style>\n<table border=\"1\" class=\"dataframe\">\n  <thead>\n    <tr style=\"text-align: right;\">\n      <th></th>\n      <th>Unnamed: 0</th>\n      <th>id</th>\n      <th>boxes</th>\n      <th>label</th>\n      <th>StudyInstanceUID</th>\n      <th>Negative for Pneumonia</th>\n      <th>Typical Appearance</th>\n      <th>Indeterminate Appearance</th>\n      <th>Atypical Appearance</th>\n      <th>PatientID</th>\n    </tr>\n  </thead>\n  <tbody>\n    <tr>\n      <th>0</th>\n      <td>0</td>\n      <td>65761e66de9f_image</td>\n      <td>[{'x': 720.65215, 'y': 636.51048, 'width': 332...</td>\n      <td>opacity 1 720.65215 636.51048 1052.84563 1284....</td>\n      <td>00086460a852_study</td>\n      <td>0</td>\n      <td>1</td>\n      <td>0</td>\n      <td>0</td>\n      <td>7d3bf0aef747</td>\n    </tr>\n    <tr>\n      <th>1</th>\n      <td>1</td>\n      <td>51759b5579bc_image</td>\n      <td>NaN</td>\n      <td>none 1 0 0 1 1</td>\n      <td>000c9c05fd14_study</td>\n      <td>0</td>\n      <td>0</td>\n      <td>0</td>\n      <td>1</td>\n      <td>2c00dc1ead80</td>\n    </tr>\n  </tbody>\n</table>\n</div>"
     },
     "metadata": {},
     "execution_count": 13
    }
   ],
   "source": [
    "train_df[:2]"
   ]
  },
  {
   "cell_type": "code",
   "execution_count": null,
   "metadata": {},
   "outputs": [],
   "source": []
  }
 ]
}