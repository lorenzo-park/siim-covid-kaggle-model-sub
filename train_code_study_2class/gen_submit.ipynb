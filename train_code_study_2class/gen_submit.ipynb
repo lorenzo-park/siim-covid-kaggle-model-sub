{
 "cells": [
  {
   "cell_type": "code",
   "execution_count": 3,
   "metadata": {},
   "outputs": [],
   "source": [
    "from pl_script.faster_rcnn_detector import LitFasterRCNN\n",
    "from pl_script.unet_smp import LitUnetSmp\n",
    "from omegaconf import OmegaConf\n",
    "\n",
    "import os\n",
    "import torch\n",
    "\n",
    "target_ckpt_paths = [\n",
    "    \"/home/lorenzo/siim-covid/pl_output/tu_tf_efficientnetv2_m-640-aug-epoch=04-sgkf0-val_loss=0.7173.ckpt\",\n",
    "    \"/home/lorenzo/siim-covid/pl_output/tu_tf_efficientnetv2_m-640-aug-epoch=04-sgkf1-val_loss=0.6988.ckpt\",\n",
    "    \"/home/lorenzo/siim-covid/pl_output/tu_tf_efficientnetv2_m-640-aug-epoch=04-sgkf2-val_loss=0.7106.ckpt\",\n",
    "    \"/home/lorenzo/siim-covid/pl_output/tu_tf_efficientnetv2_m-640-aug-epoch=04-sgkf3-val_loss=0.7454.ckpt\",\n",
    "    \"/home/lorenzo/siim-covid/pl_output/tu_tf_efficientnetv2_m-640-aug-epoch=08-sgkf4-val_loss=0.7338.ckpt\",\n",
    "]\n",
    "for target_ckpt_path in target_ckpt_paths:\n",
    "    # backbone_name = target_ckpt_path.split(\"/\")[-1].split(\"-\")[0].replace(\"_\",\"-\")\n",
    "    backbone_name = \"tu-tf_efficientnetv2_m\"\n",
    "    config_dict = OmegaConf.merge(OmegaConf.load(\"config.yaml\"), OmegaConf.load(\"model/unet_smp.yaml\"))\n",
    "    config_dict.model = \"unet_smp\"\n",
    "    config_dict.unet_smp.backbone_name = backbone_name\n",
    "    config_dict.unet_smp.classes = 2\n",
    "    config_dict.unet_smp.neck_type = \"F\"\n",
    "    \n",
    "    output_path = \"./output/efficientnetv2_m_640_nih/\"\n",
    "\n",
    "    os.makedirs(output_path, exist_ok=True)\n",
    "\n",
    "    model = LitUnetSmp.load_from_checkpoint(target_ckpt_path, config=config_dict)\n",
    "\n",
    "    study_level_classifier = model.model\n",
    "\n",
    "    torch.save(study_level_classifier.state_dict(), os.path.join(output_path, target_ckpt_path.split(\"/\")[-1]))\n",
    "    # torch.save(detector.state_dict(), os.path.join(output_path, \"detector.pth\"))"
   ]
  },
  {
   "cell_type": "code",
   "execution_count": 1,
   "metadata": {},
   "outputs": [],
   "source": [
    "from pl_script.faster_rcnn_detector import LitFasterRCNN\n",
    "from pl_script.unet_smp import LitUnetSmp\n",
    "from omegaconf import OmegaConf\n",
    "\n",
    "import os\n",
    "import torch"
   ]
  },
  {
   "cell_type": "code",
   "execution_count": 4,
   "metadata": {},
   "outputs": [
    {
     "name": "stderr",
     "output_type": "stream",
     "text": [
      "/home/lorenzo/anaconda3/envs/siim-covid/lib/python3.7/site-packages/torchmetrics/utilities/prints.py:37: UserWarning: Metric `AUC` will save all targets and predictions in buffer. For large datasets this may lead to large memory footprint.\n",
      "  warnings.warn(*args, **kwargs)\n"
     ]
    }
   ],
   "source": [
    "from pl_script.unet_smp_2c import LitUnetSmp2C\n",
    "from omegaconf import OmegaConf\n",
    "\n",
    "import os\n",
    "import torch\n",
    "\n",
    "target_ckpt_paths = [\n",
    "    \"/home/lorenzo/siim-covid/pl_output/unet_smp_2c-640-aug-epoch=01-sgkf0-val_loss=0.3697.ckpt\",\n",
    "    \"/home/lorenzo/siim-covid/pl_output/unet_smp_2c-640-aug-epoch=00-sgkf1-val_loss=0.3674.ckpt\",\n",
    "    \"/home/lorenzo/siim-covid/pl_output/unet_smp_2c-640-aug-epoch=00-sgkf2-val_loss=0.3606.ckpt\",\n",
    "    \"/home/lorenzo/siim-covid/pl_output/unet_smp_2c-640-aug-epoch=01-sgkf3-val_loss=0.3656.ckpt\",\n",
    "    \"/home/lorenzo/siim-covid/pl_output/unet_smp_2c-640-aug-epoch=00-sgkf4-val_loss=0.3790.ckpt\",\n",
    "]\n",
    "for target_ckpt_path in target_ckpt_paths:\n",
    "    # backbone_name = target_ckpt_path.split(\"/\")[-1].split(\"-\")[0].replace(\"_\",\"-\")\n",
    "    config_dict = OmegaConf.merge(OmegaConf.load(\"config.yaml\"), OmegaConf.load(\"model/unet_smp_2c.yaml\"))\n",
    "    config_dict.smp_path = None\n",
    "    config_dict.model = \"unet_smp_2c\"\n",
    "    \n",
    "    output_path = \"./output/2class-final/\"\n",
    "\n",
    "    os.makedirs(output_path, exist_ok=True)\n",
    "\n",
    "    model = LitUnetSmp2C.load_from_checkpoint(target_ckpt_path, config=config_dict)\n",
    "\n",
    "    study_level_classifier = model.model\n",
    "\n",
    "    torch.save(study_level_classifier.state_dict(), os.path.join(output_path, target_ckpt_path.split(\"/\")[-1]))\n",
    "    # torch.save(detector.state_dict(), os.path.join(output_path, \"detector.pth\"))"
   ]
  },
  {
   "cell_type": "code",
   "execution_count": null,
   "metadata": {},
   "outputs": [],
   "source": [
    "from pl_script.timm_2c import Timm2C\n",
    "from omegaconf import OmegaConf\n",
    "\n",
    "import os\n",
    "import torch\n",
    "\n",
    "target_ckpt_paths = [\n",
    "    \"/home/lorenzo/siim-covid/pl_output/unet_smp_2c-640-aug-epoch=01-sgkf0-val_loss=0.3697.ckpt\",\n",
    "    \"/home/lorenzo/siim-covid/pl_output/unet_smp_2c-640-aug-epoch=00-sgkf1-val_loss=0.3674.ckpt\",\n",
    "    \"/home/lorenzo/siim-covid/pl_output/unet_smp_2c-640-aug-epoch=00-sgkf2-val_loss=0.3606.ckpt\",\n",
    "    \"/home/lorenzo/siim-covid/pl_output/unet_smp_2c-640-aug-epoch=01-sgkf3-val_loss=0.3656.ckpt\",\n",
    "    \"/home/lorenzo/siim-covid/pl_output/unet_smp_2c-640-aug-epoch=00-sgkf4-val_loss=0.3790.ckpt\",\n",
    "]\n",
    "for target_ckpt_path in target_ckpt_paths:\n",
    "    # backbone_name = target_ckpt_path.split(\"/\")[-1].split(\"-\")[0].replace(\"_\",\"-\")\n",
    "    config_dict = OmegaConf.merge(OmegaConf.load(\"config.yaml\"), OmegaConf.load(\"model/timm_2c.yaml\"))\n",
    "    config_dict.model = \"timm_2c\"\n",
    "    \n",
    "    output_path = \"./output/2class-final/\"\n",
    "\n",
    "    os.makedirs(output_path, exist_ok=True)\n",
    "\n",
    "    model = Timm2C.load_from_checkpoint(target_ckpt_path, config=config_dict)\n",
    "\n",
    "    study_level_classifier = model.model\n",
    "\n",
    "    torch.save(study_level_classifier.state_dict(), os.path.join(output_path, target_ckpt_path.split(\"/\")[-1]))\n",
    "    # torch.save(detector.state_dict(), os.path.join(output_path, \"detector.pth\"))"
   ]
  },
  {
   "cell_type": "code",
   "execution_count": 1,
   "metadata": {},
   "outputs": [],
   "source": [
    "from pl_script.timm_2c import LitTimm2C\n",
    "from omegaconf import OmegaConf\n",
    "\n",
    "import os\n",
    "import torch\n",
    "\n",
    "target_ckpt_paths = [\n",
    "    \"/home/lorenzo/siim-covid/pl_output/timm_2c-384-aug-epoch=01-sgkf0-val_loss=0.4083.ckpt\",\n",
    "    \"/home/lorenzo/siim-covid/pl_output/timm_2c-384-aug-epoch=04-sgkf1-val_loss=0.3927.ckpt\",\n",
    "    \"/home/lorenzo/siim-covid/pl_output/timm_2c-384-aug-epoch=03-sgkf2-val_loss=0.4303.ckpt\",\n",
    "    \"/home/lorenzo/siim-covid/pl_output/timm_2c-384-aug-epoch=01-sgkf3-val_loss=0.4137.ckpt\",\n",
    "    \"/home/lorenzo/siim-covid/pl_output/timm_2c-384-aug-epoch=02-sgkf4-val_loss=0.3985.ckpt\",\n",
    "]\n",
    "for target_ckpt_path in target_ckpt_paths:\n",
    "    # backbone_name = target_ckpt_path.split(\"/\")[-1].split(\"-\")[0].replace(\"_\",\"-\")\n",
    "    config_dict = OmegaConf.merge(OmegaConf.load(\"config.yaml\"), OmegaConf.load(\"model/timm_2c.yaml\"))\n",
    "    config_dict.model = \"timm_2c\"\n",
    "    \n",
    "    output_path = \"./output/2class/\"\n",
    "\n",
    "    os.makedirs(output_path, exist_ok=True)\n",
    "\n",
    "    model = LitTimm2C.load_from_checkpoint(target_ckpt_path, config=config_dict)\n",
    "\n",
    "    study_level_classifier = model.model\n",
    "\n",
    "    torch.save(study_level_classifier.state_dict(), os.path.join(output_path, target_ckpt_path.split(\"/\")[-1]))\n",
    "    # torch.save(detector.state_dict(), os.path.join(output_path, \"detector.pth\"))"
   ]
  },
  {
   "cell_type": "code",
   "execution_count": null,
   "metadata": {},
   "outputs": [],
   "source": []
  }
 ],
 "metadata": {
  "kernelspec": {
   "display_name": "Python 3.7.11 64-bit ('siim-covid': conda)",
   "name": "python3711jvsc74a57bd01f4f94af67ce9786ed44436abf6e58989dd7431b8e6c2b499cb33e77cf9b50df"
  },
  "language_info": {
   "name": "python",
   "version": ""
  },
  "metadata": {
   "interpreter": {
    "hash": "55da4bfabaa72f6d23e190de73e880f50e1e61f38162ba3c994fd2cd39574748"
   }
  },
  "orig_nbformat": 2
 },
 "nbformat": 4,
 "nbformat_minor": 2
}