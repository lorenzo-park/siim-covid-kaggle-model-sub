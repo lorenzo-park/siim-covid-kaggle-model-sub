{
 "cells": [
  {
   "cell_type": "code",
   "execution_count": 2,
   "metadata": {},
   "outputs": [],
   "source": [
    "import os\n",
    "import pandas as pd\n",
    "import numpy as np"
   ]
  },
  {
   "cell_type": "code",
   "execution_count": 2,
   "metadata": {},
   "outputs": [],
   "source": [
    "data_path = \"./data-512/\"\n",
    "image_df = pd.read_csv(os.path.join(data_path, \"train_image_level.csv\"))\n",
    "study_df = pd.read_csv(os.path.join(data_path, \"train_study_level.csv\"))\n",
    "image_df[\"StudyInstanceUID\"] = image_df[\"StudyInstanceUID\"] + \"_study\"\n",
    "df = image_df.merge(study_df, left_on=\"StudyInstanceUID\", right_on=\"id\", suffixes=('', '_dup'))\n",
    "df.pop(\"id_dup\")\n",
    "df.to_csv(os.path.join(data_path, \"merged.csv\"), index=False)"
   ]
  },
  {
   "cell_type": "code",
   "execution_count": 3,
   "metadata": {
    "tags": []
   },
   "outputs": [],
   "source": [
    "rows = []\n",
    "for id, group in df.groupby(\"StudyInstanceUID\"):\n",
    "    if len(group) > 1:\n",
    "        group_filtered = group[group[\"boxes\"].isna() == False]\n",
    "        if len(group_filtered) == 0:\n",
    "            row = group.iloc[0]\n",
    "        else:\n",
    "            row = group_filtered.iloc[0]\n",
    "    else:\n",
    "        row = group.iloc[0]\n",
    "    rows.append(row)"
   ]
  },
  {
   "cell_type": "code",
   "execution_count": 4,
   "metadata": {},
   "outputs": [],
   "source": [
    "pd.DataFrame(rows).reset_index(drop=True).to_csv(os.path.join(data_path, \"merged_drop_multi_image_study.csv\"), index=False)"
   ]
  },
  {
   "cell_type": "code",
   "execution_count": 6,
   "metadata": {},
   "outputs": [],
   "source": [
    "import pandas as pd\n",
    "df = pd.read_csv(\"/root/siim-covid/data-512/merged_drop_multi_image_study.csv\")"
   ]
  },
  {
   "cell_type": "code",
   "execution_count": 8,
   "metadata": {},
   "outputs": [],
   "source": [
    "meta_df = pd.read_csv(\"/root/siim-covid/data-512/meta_train.csv\")"
   ]
  },
  {
   "cell_type": "code",
   "execution_count": 9,
   "metadata": {},
   "outputs": [
    {
     "data": {
      "text/html": "<div>\n<style scoped>\n    .dataframe tbody tr th:only-of-type {\n        vertical-align: middle;\n    }\n\n    .dataframe tbody tr th {\n        vertical-align: top;\n    }\n\n    .dataframe thead th {\n        text-align: right;\n    }\n</style>\n<table border=\"1\" class=\"dataframe\">\n  <thead>\n    <tr style=\"text-align: right;\">\n      <th></th>\n      <th>id</th>\n      <th>boxes</th>\n      <th>label</th>\n      <th>StudyInstanceUID</th>\n      <th>Negative for Pneumonia</th>\n      <th>Typical Appearance</th>\n      <th>Indeterminate Appearance</th>\n      <th>Atypical Appearance</th>\n    </tr>\n  </thead>\n  <tbody>\n    <tr>\n      <th>0</th>\n      <td>65761e66de9f_image</td>\n      <td>[{'x': 720.65215, 'y': 636.51048, 'width': 332...</td>\n      <td>opacity 1 720.65215 636.51048 1052.84563 1284....</td>\n      <td>00086460a852_study</td>\n      <td>0</td>\n      <td>1</td>\n      <td>0</td>\n      <td>0</td>\n    </tr>\n    <tr>\n      <th>1</th>\n      <td>51759b5579bc_image</td>\n      <td>NaN</td>\n      <td>none 1 0 0 1 1</td>\n      <td>000c9c05fd14_study</td>\n      <td>0</td>\n      <td>0</td>\n      <td>0</td>\n      <td>1</td>\n    </tr>\n    <tr>\n      <th>2</th>\n      <td>f6293b1c49e2_image</td>\n      <td>NaN</td>\n      <td>none 1 0 0 1 1</td>\n      <td>00292f8c37bd_study</td>\n      <td>1</td>\n      <td>0</td>\n      <td>0</td>\n      <td>0</td>\n    </tr>\n    <tr>\n      <th>3</th>\n      <td>3019399c31f4_image</td>\n      <td>NaN</td>\n      <td>none 1 0 0 1 1</td>\n      <td>005057b3f880_study</td>\n      <td>1</td>\n      <td>0</td>\n      <td>0</td>\n      <td>0</td>\n    </tr>\n    <tr>\n      <th>4</th>\n      <td>bb4b1da810f3_image</td>\n      <td>[{'x': 812.54698, 'y': 1376.41291, 'width': 62...</td>\n      <td>opacity 1 812.54698 1376.41291 1435.14793 1806...</td>\n      <td>0051d9b12e72_study</td>\n      <td>0</td>\n      <td>0</td>\n      <td>0</td>\n      <td>1</td>\n    </tr>\n    <tr>\n      <th>...</th>\n      <td>...</td>\n      <td>...</td>\n      <td>...</td>\n      <td>...</td>\n      <td>...</td>\n      <td>...</td>\n      <td>...</td>\n      <td>...</td>\n    </tr>\n    <tr>\n      <th>6049</th>\n      <td>84ed5f7f71bf_image</td>\n      <td>[{'x': 1721.27651, 'y': 974.09667, 'width': 12...</td>\n      <td>opacity 1 1721.27651 974.09667 2999.21998 2681...</td>\n      <td>ffcb4630f46f_study</td>\n      <td>0</td>\n      <td>1</td>\n      <td>0</td>\n      <td>0</td>\n    </tr>\n    <tr>\n      <th>6050</th>\n      <td>e6215d0188e5_image</td>\n      <td>[{'x': 364.93056, 'y': 870.04017, 'width': 731...</td>\n      <td>opacity 1 364.93056 870.04017 1096.13908 2053....</td>\n      <td>ffe4d6e8fbb0_study</td>\n      <td>0</td>\n      <td>1</td>\n      <td>0</td>\n      <td>0</td>\n    </tr>\n    <tr>\n      <th>6051</th>\n      <td>7d27b1bb3987_image</td>\n      <td>[{'x': 28.48292, 'y': 828.48474, 'width': 1116...</td>\n      <td>opacity 1 28.48292 828.48474 1145.01081 2296.7...</td>\n      <td>ffe94fcb14fa_study</td>\n      <td>0</td>\n      <td>1</td>\n      <td>0</td>\n      <td>0</td>\n    </tr>\n    <tr>\n      <th>6052</th>\n      <td>52478e480a15_image</td>\n      <td>[{'x': 425.81211, 'y': 424.86147, 'width': 528...</td>\n      <td>opacity 1 425.81211 424.86147 953.95118 1579.3...</td>\n      <td>ffebf1ef4a9c_study</td>\n      <td>0</td>\n      <td>1</td>\n      <td>0</td>\n      <td>0</td>\n    </tr>\n    <tr>\n      <th>6053</th>\n      <td>8a80cfa63a23_image</td>\n      <td>[{'x': 949.33503, 'y': 1495.82807, 'width': 71...</td>\n      <td>opacity 1 949.33503 1495.82807 1666.45264 2784...</td>\n      <td>fff649d65f62_study</td>\n      <td>0</td>\n      <td>1</td>\n      <td>0</td>\n      <td>0</td>\n    </tr>\n  </tbody>\n</table>\n<p>6054 rows × 8 columns</p>\n</div>",
      "text/plain": [
       "                      id                                              boxes  \\\n",
       "0     65761e66de9f_image  [{'x': 720.65215, 'y': 636.51048, 'width': 332...   \n",
       "1     51759b5579bc_image                                                NaN   \n",
       "2     f6293b1c49e2_image                                                NaN   \n",
       "3     3019399c31f4_image                                                NaN   \n",
       "4     bb4b1da810f3_image  [{'x': 812.54698, 'y': 1376.41291, 'width': 62...   \n",
       "...                  ...                                                ...   \n",
       "6049  84ed5f7f71bf_image  [{'x': 1721.27651, 'y': 974.09667, 'width': 12...   \n",
       "6050  e6215d0188e5_image  [{'x': 364.93056, 'y': 870.04017, 'width': 731...   \n",
       "6051  7d27b1bb3987_image  [{'x': 28.48292, 'y': 828.48474, 'width': 1116...   \n",
       "6052  52478e480a15_image  [{'x': 425.81211, 'y': 424.86147, 'width': 528...   \n",
       "6053  8a80cfa63a23_image  [{'x': 949.33503, 'y': 1495.82807, 'width': 71...   \n",
       "\n",
       "                                                  label    StudyInstanceUID  \\\n",
       "0     opacity 1 720.65215 636.51048 1052.84563 1284....  00086460a852_study   \n",
       "1                                        none 1 0 0 1 1  000c9c05fd14_study   \n",
       "2                                        none 1 0 0 1 1  00292f8c37bd_study   \n",
       "3                                        none 1 0 0 1 1  005057b3f880_study   \n",
       "4     opacity 1 812.54698 1376.41291 1435.14793 1806...  0051d9b12e72_study   \n",
       "...                                                 ...                 ...   \n",
       "6049  opacity 1 1721.27651 974.09667 2999.21998 2681...  ffcb4630f46f_study   \n",
       "6050  opacity 1 364.93056 870.04017 1096.13908 2053....  ffe4d6e8fbb0_study   \n",
       "6051  opacity 1 28.48292 828.48474 1145.01081 2296.7...  ffe94fcb14fa_study   \n",
       "6052  opacity 1 425.81211 424.86147 953.95118 1579.3...  ffebf1ef4a9c_study   \n",
       "6053  opacity 1 949.33503 1495.82807 1666.45264 2784...  fff649d65f62_study   \n",
       "\n",
       "      Negative for Pneumonia  Typical Appearance  Indeterminate Appearance  \\\n",
       "0                          0                   1                         0   \n",
       "1                          0                   0                         0   \n",
       "2                          1                   0                         0   \n",
       "3                          1                   0                         0   \n",
       "4                          0                   0                         0   \n",
       "...                      ...                 ...                       ...   \n",
       "6049                       0                   1                         0   \n",
       "6050                       0                   1                         0   \n",
       "6051                       0                   1                         0   \n",
       "6052                       0                   1                         0   \n",
       "6053                       0                   1                         0   \n",
       "\n",
       "      Atypical Appearance  \n",
       "0                       0  \n",
       "1                       1  \n",
       "2                       0  \n",
       "3                       0  \n",
       "4                       1  \n",
       "...                   ...  \n",
       "6049                    0  \n",
       "6050                    0  \n",
       "6051                    0  \n",
       "6052                    0  \n",
       "6053                    0  \n",
       "\n",
       "[6054 rows x 8 columns]"
      ]
     },
     "execution_count": 9,
     "metadata": {},
     "output_type": "execute_result"
    }
   ],
   "source": [
    "df"
   ]
  },
  {
   "cell_type": "code",
   "execution_count": 15,
   "metadata": {},
   "outputs": [],
   "source": [
    "mapper = {}\n",
    "for study_id, patient_id in meta_df[[\"StudyInstanceUID\", \"PatientID\"]].to_numpy():\n",
    "    mapper[study_id] = patient_id"
   ]
  },
  {
   "cell_type": "code",
   "execution_count": 19,
   "metadata": {},
   "outputs": [],
   "source": [
    "patient_ids = []\n",
    "for idx, row in df.iterrows():\n",
    "    patient_ids.append(mapper[row[\"StudyInstanceUID\"].replace(\"_study\",\"\")])"
   ]
  },
  {
   "cell_type": "code",
   "execution_count": 21,
   "metadata": {},
   "outputs": [],
   "source": [
    "df[\"PatientID\"] = patient_ids"
   ]
  },
  {
   "cell_type": "code",
   "execution_count": 23,
   "metadata": {},
   "outputs": [],
   "source": [
    "df.to_csv(\"/root/siim-covid/data-512/merged_drop_multi_image_study.csv\")"
   ]
  },
  {
   "cell_type": "code",
   "execution_count": 5,
   "metadata": {},
   "outputs": [
    {
     "data": {
      "text/html": "<div>\n<style scoped>\n    .dataframe tbody tr th:only-of-type {\n        vertical-align: middle;\n    }\n\n    .dataframe tbody tr th {\n        vertical-align: top;\n    }\n\n    .dataframe thead th {\n        text-align: right;\n    }\n</style>\n<table border=\"1\" class=\"dataframe\">\n  <thead>\n    <tr style=\"text-align: right;\">\n      <th></th>\n      <th>id</th>\n      <th>boxes</th>\n      <th>label</th>\n      <th>StudyInstanceUID</th>\n      <th>Negative for Pneumonia</th>\n      <th>Typical Appearance</th>\n      <th>Indeterminate Appearance</th>\n      <th>Atypical Appearance</th>\n      <th>PatientID</th>\n      <th>study_id</th>\n      <th>psl_Negative for Pneumonia</th>\n      <th>psl_Typical Appearance</th>\n      <th>psl_Indeterminate Appearance</th>\n      <th>psl_Atypical Appearance</th>\n    </tr>\n  </thead>\n  <tbody>\n    <tr>\n      <th>0</th>\n      <td>65761e66de9f_image</td>\n      <td>[{'x': 720.65215, 'y': 636.51048, 'width': 332...</td>\n      <td>opacity 1 720.65215 636.51048 1052.84563 1284....</td>\n      <td>00086460a852_study</td>\n      <td>0</td>\n      <td>1</td>\n      <td>0</td>\n      <td>0</td>\n      <td>7d3bf0aef747</td>\n      <td>00086460a852_study</td>\n      <td>0.034871</td>\n      <td>0.237445</td>\n      <td>0.220957</td>\n      <td>0.506727</td>\n    </tr>\n    <tr>\n      <th>1</th>\n      <td>51759b5579bc_image</td>\n      <td>NaN</td>\n      <td>none 1 0 0 1 1</td>\n      <td>000c9c05fd14_study</td>\n      <td>0</td>\n      <td>0</td>\n      <td>0</td>\n      <td>1</td>\n      <td>2c00dc1ead80</td>\n      <td>000c9c05fd14_study</td>\n      <td>0.023178</td>\n      <td>0.011617</td>\n      <td>0.017695</td>\n      <td>0.947510</td>\n    </tr>\n    <tr>\n      <th>2</th>\n      <td>f6293b1c49e2_image</td>\n      <td>NaN</td>\n      <td>none 1 0 0 1 1</td>\n      <td>00292f8c37bd_study</td>\n      <td>1</td>\n      <td>0</td>\n      <td>0</td>\n      <td>0</td>\n      <td>f942cf0989ff</td>\n      <td>00292f8c37bd_study</td>\n      <td>0.938524</td>\n      <td>0.020923</td>\n      <td>0.029067</td>\n      <td>0.011487</td>\n    </tr>\n    <tr>\n      <th>3</th>\n      <td>3019399c31f4_image</td>\n      <td>NaN</td>\n      <td>none 1 0 0 1 1</td>\n      <td>005057b3f880_study</td>\n      <td>1</td>\n      <td>0</td>\n      <td>0</td>\n      <td>0</td>\n      <td>f1894c76ef7b</td>\n      <td>005057b3f880_study</td>\n      <td>0.962784</td>\n      <td>0.008199</td>\n      <td>0.015824</td>\n      <td>0.013193</td>\n    </tr>\n    <tr>\n      <th>4</th>\n      <td>bb4b1da810f3_image</td>\n      <td>[{'x': 812.54698, 'y': 1376.41291, 'width': 62...</td>\n      <td>opacity 1 812.54698 1376.41291 1435.14793 1806...</td>\n      <td>0051d9b12e72_study</td>\n      <td>0</td>\n      <td>0</td>\n      <td>0</td>\n      <td>1</td>\n      <td>e2dbb0ae5e50</td>\n      <td>0051d9b12e72_study</td>\n      <td>0.234519</td>\n      <td>0.281015</td>\n      <td>0.334334</td>\n      <td>0.150132</td>\n    </tr>\n    <tr>\n      <th>...</th>\n      <td>...</td>\n      <td>...</td>\n      <td>...</td>\n      <td>...</td>\n      <td>...</td>\n      <td>...</td>\n      <td>...</td>\n      <td>...</td>\n      <td>...</td>\n      <td>...</td>\n      <td>...</td>\n      <td>...</td>\n      <td>...</td>\n      <td>...</td>\n    </tr>\n    <tr>\n      <th>6049</th>\n      <td>84ed5f7f71bf_image</td>\n      <td>[{'x': 1721.27651, 'y': 974.09667, 'width': 12...</td>\n      <td>opacity 1 1721.27651 974.09667 2999.21998 2681...</td>\n      <td>ffcb4630f46f_study</td>\n      <td>0</td>\n      <td>1</td>\n      <td>0</td>\n      <td>0</td>\n      <td>e67df835b17d</td>\n      <td>ffcb4630f46f_study</td>\n      <td>0.011239</td>\n      <td>0.872172</td>\n      <td>0.090800</td>\n      <td>0.025790</td>\n    </tr>\n    <tr>\n      <th>6050</th>\n      <td>e6215d0188e5_image</td>\n      <td>[{'x': 364.93056, 'y': 870.04017, 'width': 731...</td>\n      <td>opacity 1 364.93056 870.04017 1096.13908 2053....</td>\n      <td>ffe4d6e8fbb0_study</td>\n      <td>0</td>\n      <td>1</td>\n      <td>0</td>\n      <td>0</td>\n      <td>a66dba7d222a</td>\n      <td>ffe4d6e8fbb0_study</td>\n      <td>0.032084</td>\n      <td>0.076055</td>\n      <td>0.115309</td>\n      <td>0.776552</td>\n    </tr>\n    <tr>\n      <th>6051</th>\n      <td>7d27b1bb3987_image</td>\n      <td>[{'x': 28.48292, 'y': 828.48474, 'width': 1116...</td>\n      <td>opacity 1 28.48292 828.48474 1145.01081 2296.7...</td>\n      <td>ffe94fcb14fa_study</td>\n      <td>0</td>\n      <td>1</td>\n      <td>0</td>\n      <td>0</td>\n      <td>1af09f44436b</td>\n      <td>ffe94fcb14fa_study</td>\n      <td>0.038101</td>\n      <td>0.835028</td>\n      <td>0.112022</td>\n      <td>0.014849</td>\n    </tr>\n    <tr>\n      <th>6052</th>\n      <td>52478e480a15_image</td>\n      <td>[{'x': 425.81211, 'y': 424.86147, 'width': 528...</td>\n      <td>opacity 1 425.81211 424.86147 953.95118 1579.3...</td>\n      <td>ffebf1ef4a9c_study</td>\n      <td>0</td>\n      <td>1</td>\n      <td>0</td>\n      <td>0</td>\n      <td>95680c66c89a</td>\n      <td>ffebf1ef4a9c_study</td>\n      <td>0.001412</td>\n      <td>0.808955</td>\n      <td>0.133609</td>\n      <td>0.056024</td>\n    </tr>\n    <tr>\n      <th>6053</th>\n      <td>8a80cfa63a23_image</td>\n      <td>[{'x': 949.33503, 'y': 1495.82807, 'width': 71...</td>\n      <td>opacity 1 949.33503 1495.82807 1666.45264 2784...</td>\n      <td>fff649d65f62_study</td>\n      <td>0</td>\n      <td>1</td>\n      <td>0</td>\n      <td>0</td>\n      <td>eac4a21146e4</td>\n      <td>fff649d65f62_study</td>\n      <td>0.104570</td>\n      <td>0.632995</td>\n      <td>0.205575</td>\n      <td>0.056860</td>\n    </tr>\n  </tbody>\n</table>\n<p>6054 rows × 14 columns</p>\n</div>",
      "text/plain": "                      id                                              boxes  \\\n0     65761e66de9f_image  [{'x': 720.65215, 'y': 636.51048, 'width': 332...   \n1     51759b5579bc_image                                                NaN   \n2     f6293b1c49e2_image                                                NaN   \n3     3019399c31f4_image                                                NaN   \n4     bb4b1da810f3_image  [{'x': 812.54698, 'y': 1376.41291, 'width': 62...   \n...                  ...                                                ...   \n6049  84ed5f7f71bf_image  [{'x': 1721.27651, 'y': 974.09667, 'width': 12...   \n6050  e6215d0188e5_image  [{'x': 364.93056, 'y': 870.04017, 'width': 731...   \n6051  7d27b1bb3987_image  [{'x': 28.48292, 'y': 828.48474, 'width': 1116...   \n6052  52478e480a15_image  [{'x': 425.81211, 'y': 424.86147, 'width': 528...   \n6053  8a80cfa63a23_image  [{'x': 949.33503, 'y': 1495.82807, 'width': 71...   \n\n                                                  label    StudyInstanceUID  \\\n0     opacity 1 720.65215 636.51048 1052.84563 1284....  00086460a852_study   \n1                                        none 1 0 0 1 1  000c9c05fd14_study   \n2                                        none 1 0 0 1 1  00292f8c37bd_study   \n3                                        none 1 0 0 1 1  005057b3f880_study   \n4     opacity 1 812.54698 1376.41291 1435.14793 1806...  0051d9b12e72_study   \n...                                                 ...                 ...   \n6049  opacity 1 1721.27651 974.09667 2999.21998 2681...  ffcb4630f46f_study   \n6050  opacity 1 364.93056 870.04017 1096.13908 2053....  ffe4d6e8fbb0_study   \n6051  opacity 1 28.48292 828.48474 1145.01081 2296.7...  ffe94fcb14fa_study   \n6052  opacity 1 425.81211 424.86147 953.95118 1579.3...  ffebf1ef4a9c_study   \n6053  opacity 1 949.33503 1495.82807 1666.45264 2784...  fff649d65f62_study   \n\n      Negative for Pneumonia  Typical Appearance  Indeterminate Appearance  \\\n0                          0                   1                         0   \n1                          0                   0                         0   \n2                          1                   0                         0   \n3                          1                   0                         0   \n4                          0                   0                         0   \n...                      ...                 ...                       ...   \n6049                       0                   1                         0   \n6050                       0                   1                         0   \n6051                       0                   1                         0   \n6052                       0                   1                         0   \n6053                       0                   1                         0   \n\n      Atypical Appearance     PatientID            study_id  \\\n0                       0  7d3bf0aef747  00086460a852_study   \n1                       1  2c00dc1ead80  000c9c05fd14_study   \n2                       0  f942cf0989ff  00292f8c37bd_study   \n3                       0  f1894c76ef7b  005057b3f880_study   \n4                       1  e2dbb0ae5e50  0051d9b12e72_study   \n...                   ...           ...                 ...   \n6049                    0  e67df835b17d  ffcb4630f46f_study   \n6050                    0  a66dba7d222a  ffe4d6e8fbb0_study   \n6051                    0  1af09f44436b  ffe94fcb14fa_study   \n6052                    0  95680c66c89a  ffebf1ef4a9c_study   \n6053                    0  eac4a21146e4  fff649d65f62_study   \n\n      psl_Negative for Pneumonia  psl_Typical Appearance  \\\n0                       0.034871                0.237445   \n1                       0.023178                0.011617   \n2                       0.938524                0.020923   \n3                       0.962784                0.008199   \n4                       0.234519                0.281015   \n...                          ...                     ...   \n6049                    0.011239                0.872172   \n6050                    0.032084                0.076055   \n6051                    0.038101                0.835028   \n6052                    0.001412                0.808955   \n6053                    0.104570                0.632995   \n\n      psl_Indeterminate Appearance  psl_Atypical Appearance  \n0                         0.220957                 0.506727  \n1                         0.017695                 0.947510  \n2                         0.029067                 0.011487  \n3                         0.015824                 0.013193  \n4                         0.334334                 0.150132  \n...                            ...                      ...  \n6049                      0.090800                 0.025790  \n6050                      0.115309                 0.776552  \n6051                      0.112022                 0.014849  \n6052                      0.133609                 0.056024  \n6053                      0.205575                 0.056860  \n\n[6054 rows x 14 columns]"
     },
     "execution_count": 5,
     "metadata": {},
     "output_type": "execute_result"
    }
   ],
   "source": [
    "train = pd.read_csv(\"./data-640/train_psl.csv\")\n",
    "train"
   ]
  },
  {
   "cell_type": "code",
   "execution_count": 8,
   "metadata": {},
   "outputs": [
    {
     "data": {
      "text/html": "<div>\n<style scoped>\n    .dataframe tbody tr th:only-of-type {\n        vertical-align: middle;\n    }\n\n    .dataframe tbody tr th {\n        vertical-align: top;\n    }\n\n    .dataframe thead th {\n        text-align: right;\n    }\n</style>\n<table border=\"1\" class=\"dataframe\">\n  <thead>\n    <tr style=\"text-align: right;\">\n      <th></th>\n      <th>id</th>\n      <th>boxes</th>\n      <th>label</th>\n      <th>StudyInstanceUID</th>\n      <th>none</th>\n    </tr>\n  </thead>\n  <tbody>\n    <tr>\n      <th>0</th>\n      <td>000a312787f2_image</td>\n      <td>[{'x': 789.28836, 'y': 582.43035, 'width': 102...</td>\n      <td>opacity 1 789.28836 582.43035 1815.94498 2499....</td>\n      <td>5776db0cec75</td>\n      <td>0</td>\n    </tr>\n    <tr>\n      <th>1</th>\n      <td>000c3a3f293f_image</td>\n      <td>NaN</td>\n      <td>none 1 0 0 1 1</td>\n      <td>ff0879eb20ed</td>\n      <td>1</td>\n    </tr>\n    <tr>\n      <th>2</th>\n      <td>0012ff7358bc_image</td>\n      <td>[{'x': 677.42216, 'y': 197.97662, 'width': 867...</td>\n      <td>opacity 1 677.42216 197.97662 1545.21983 1197....</td>\n      <td>9d514ce429a7</td>\n      <td>0</td>\n    </tr>\n    <tr>\n      <th>3</th>\n      <td>001398f4ff4f_image</td>\n      <td>[{'x': 2729, 'y': 2181.33331, 'width': 948.000...</td>\n      <td>opacity 1 2729 2181.33331 3677.00012 2785.33331</td>\n      <td>28dddc8559b2</td>\n      <td>0</td>\n    </tr>\n    <tr>\n      <th>4</th>\n      <td>001bd15d1891_image</td>\n      <td>[{'x': 623.23328, 'y': 1050, 'width': 714, 'he...</td>\n      <td>opacity 1 623.23328 1050 1337.23328 2156 opaci...</td>\n      <td>dfd9fdd85a3e</td>\n      <td>0</td>\n    </tr>\n    <tr>\n      <th>...</th>\n      <td>...</td>\n      <td>...</td>\n      <td>...</td>\n      <td>...</td>\n      <td>...</td>\n    </tr>\n    <tr>\n      <th>6329</th>\n      <td>ffcc6edd9445_image</td>\n      <td>NaN</td>\n      <td>none 1 0 0 1 1</td>\n      <td>7e6c68462e06</td>\n      <td>1</td>\n    </tr>\n    <tr>\n      <th>6330</th>\n      <td>ffd91a2c4ca0_image</td>\n      <td>NaN</td>\n      <td>none 1 0 0 1 1</td>\n      <td>8332bdaddb6e</td>\n      <td>1</td>\n    </tr>\n    <tr>\n      <th>6331</th>\n      <td>ffd9b6cf2961_image</td>\n      <td>[{'x': 2197.38566, 'y': 841.07361, 'width': 31...</td>\n      <td>opacity 1 2197.38566 841.07361 2513.80265 1292...</td>\n      <td>7eed9af03814</td>\n      <td>0</td>\n    </tr>\n    <tr>\n      <th>6332</th>\n      <td>ffdc682f7680_image</td>\n      <td>[{'x': 2729.27083, 'y': 332.26044, 'width': 14...</td>\n      <td>opacity 1 2729.27083 332.26044 4225.52099 2936...</td>\n      <td>a0cb0b96fb3d</td>\n      <td>0</td>\n    </tr>\n    <tr>\n      <th>6333</th>\n      <td>ffe942c8655f_image</td>\n      <td>[{'x': 208.86463, 'y': 91.53448, 'width': 450....</td>\n      <td>opacity 1 208.86463 91.53448 659.8321 719.5892...</td>\n      <td>7d82d53204b8</td>\n      <td>0</td>\n    </tr>\n  </tbody>\n</table>\n<p>6334 rows × 5 columns</p>\n</div>",
      "text/plain": "                      id                                              boxes  \\\n0     000a312787f2_image  [{'x': 789.28836, 'y': 582.43035, 'width': 102...   \n1     000c3a3f293f_image                                                NaN   \n2     0012ff7358bc_image  [{'x': 677.42216, 'y': 197.97662, 'width': 867...   \n3     001398f4ff4f_image  [{'x': 2729, 'y': 2181.33331, 'width': 948.000...   \n4     001bd15d1891_image  [{'x': 623.23328, 'y': 1050, 'width': 714, 'he...   \n...                  ...                                                ...   \n6329  ffcc6edd9445_image                                                NaN   \n6330  ffd91a2c4ca0_image                                                NaN   \n6331  ffd9b6cf2961_image  [{'x': 2197.38566, 'y': 841.07361, 'width': 31...   \n6332  ffdc682f7680_image  [{'x': 2729.27083, 'y': 332.26044, 'width': 14...   \n6333  ffe942c8655f_image  [{'x': 208.86463, 'y': 91.53448, 'width': 450....   \n\n                                                  label StudyInstanceUID  none  \n0     opacity 1 789.28836 582.43035 1815.94498 2499....     5776db0cec75     0  \n1                                        none 1 0 0 1 1     ff0879eb20ed     1  \n2     opacity 1 677.42216 197.97662 1545.21983 1197....     9d514ce429a7     0  \n3       opacity 1 2729 2181.33331 3677.00012 2785.33331     28dddc8559b2     0  \n4     opacity 1 623.23328 1050 1337.23328 2156 opaci...     dfd9fdd85a3e     0  \n...                                                 ...              ...   ...  \n6329                                     none 1 0 0 1 1     7e6c68462e06     1  \n6330                                     none 1 0 0 1 1     8332bdaddb6e     1  \n6331  opacity 1 2197.38566 841.07361 2513.80265 1292...     7eed9af03814     0  \n6332  opacity 1 2729.27083 332.26044 4225.52099 2936...     a0cb0b96fb3d     0  \n6333  opacity 1 208.86463 91.53448 659.8321 719.5892...     7d82d53204b8     0  \n\n[6334 rows x 5 columns]"
     },
     "execution_count": 8,
     "metadata": {},
     "output_type": "execute_result"
    }
   ],
   "source": [
    "twoclass = pd.read_csv(\"./data-640/2class.csv\")\n",
    "twoclass"
   ]
  },
  {
   "cell_type": "code",
   "execution_count": 5,
   "metadata": {},
   "outputs": [],
   "source": [
    "import pandas as pd\n",
    "train_target = pd.read_csv(\"./data-640-merge/df.csv\")\n",
    "ids = []\n",
    "for idx, row in train_target.iterrows():\n",
    "  ids.append(row[\"id\"].replace(\".png\",\"_study\"))\n",
    "train_target[\"id\"] = ids\n",
    "\n",
    "train_target = train_target.rename(columns={\"id\": \"StudyInstanceUID\"})\n",
    "train_old = pd.read_csv(\"./data-640/train_psl_none.csv\")\n",
    "train_target = pd.merge(train_target, train_old[[\"StudyInstanceUID\",\"id\",\"boxes\",\"label\",\"PatientID\"]], on=\"StudyInstanceUID\", how=\"left\")\n",
    "ids = []\n",
    "for idx, row in train_target.iterrows():\n",
    "  if pd.isna(row[\"id\"]):\n",
    "    ids.append(row[\"StudyInstanceUID\"].replace(\"_study\", \"_image\"))\n",
    "  else:\n",
    "    ids.append(row[\"id\"])\n",
    "train_target[\"id\"] = ids\n",
    "train_target[\"label\"] = train_target[\"label\"].fillna(\"none 1 0 0 1 1\")\n",
    "train_target[\"PatientID\"] = train_target[\"PatientID\"].fillna(train_target[\"StudyInstanceUID\"])\n",
    "train_target.to_csv(\"./data-640-merge/train_psl_none.csv\")"
   ]
  },
  {
   "cell_type": "code",
   "execution_count": 38,
   "metadata": {},
   "outputs": [],
   "source": [
    "meta = pd.read_csv(\"./data-640/meta.csv\")\n",
    "meta[\"image_id\"] += \"_image\"\n",
    "meta[\"id\"] = meta.pop(\"image_id\")\n",
    "meta_target = pd.read_csv(\"./data-640-merge/train_psl_none.csv\")\n",
    "meta_target = pd.merge(meta_target[[\"id\"]], meta, how=\"left\", on=\"id\").fillna(0).rename(columns={\"id\":\"image_id\"})\n",
    "meta_target[\"split\"] = \"train\"\n",
    "meta_target[\"image_id\"] = meta_target[\"image_id\"].apply(lambda x: x.replace(\"_image\", \"\"))\n",
    "meta_target.to_csv(\"./data-640-merge/meta.csv\", index=False)"
   ]
  },
  {
   "cell_type": "code",
   "execution_count": 2,
   "metadata": {},
   "outputs": [],
   "source": [
    "import pandas as pd\n",
    "df = pd.read_csv(\"./data-640-merge/train_psl_none.csv\")\n",
    "df[\"merge\"] = df[\"PatientID\"] == df[\"StudyInstanceUID\"]\n",
    "df.to_csv(\"./data-640-merge/train_psl_none.csv\")"
   ]
  },
  {
   "cell_type": "code",
   "execution_count": 5,
   "metadata": {},
   "outputs": [
    {
     "data": {
      "text/html": "<div>\n<style scoped>\n    .dataframe tbody tr th:only-of-type {\n        vertical-align: middle;\n    }\n\n    .dataframe tbody tr th {\n        vertical-align: top;\n    }\n\n    .dataframe thead th {\n        text-align: right;\n    }\n</style>\n<table border=\"1\" class=\"dataframe\">\n  <thead>\n    <tr style=\"text-align: right;\">\n      <th></th>\n      <th>Unnamed: 0</th>\n      <th>Unnamed: 0.1</th>\n      <th>StudyInstanceUID</th>\n      <th>Negative for Pneumonia</th>\n      <th>Typical Appearance</th>\n      <th>Indeterminate Appearance</th>\n      <th>Atypical Appearance</th>\n      <th>id</th>\n      <th>boxes</th>\n      <th>label</th>\n      <th>PatientID</th>\n      <th>merge</th>\n    </tr>\n  </thead>\n  <tbody>\n    <tr>\n      <th>0</th>\n      <td>0</td>\n      <td>0</td>\n      <td>00086460a852_study</td>\n      <td>0.0</td>\n      <td>1.0</td>\n      <td>0.0</td>\n      <td>0.0</td>\n      <td>65761e66de9f_image</td>\n      <td>[{'x': 720.65215, 'y': 636.51048, 'width': 332...</td>\n      <td>opacity 1 720.65215 636.51048 1052.84563 1284....</td>\n      <td>7d3bf0aef747</td>\n      <td>False</td>\n    </tr>\n    <tr>\n      <th>1</th>\n      <td>1</td>\n      <td>1</td>\n      <td>000c9c05fd14_study</td>\n      <td>0.0</td>\n      <td>0.0</td>\n      <td>0.0</td>\n      <td>1.0</td>\n      <td>51759b5579bc_image</td>\n      <td>NaN</td>\n      <td>none 1 0 0 1 1</td>\n      <td>2c00dc1ead80</td>\n      <td>False</td>\n    </tr>\n    <tr>\n      <th>2</th>\n      <td>2</td>\n      <td>2</td>\n      <td>00292f8c37bd_study</td>\n      <td>1.0</td>\n      <td>0.0</td>\n      <td>0.0</td>\n      <td>0.0</td>\n      <td>f6293b1c49e2_image</td>\n      <td>NaN</td>\n      <td>none 1 0 0 1 1</td>\n      <td>f942cf0989ff</td>\n      <td>False</td>\n    </tr>\n    <tr>\n      <th>3</th>\n      <td>3</td>\n      <td>3</td>\n      <td>005057b3f880_study</td>\n      <td>1.0</td>\n      <td>0.0</td>\n      <td>0.0</td>\n      <td>0.0</td>\n      <td>3019399c31f4_image</td>\n      <td>NaN</td>\n      <td>none 1 0 0 1 1</td>\n      <td>f1894c76ef7b</td>\n      <td>False</td>\n    </tr>\n    <tr>\n      <th>4</th>\n      <td>4</td>\n      <td>4</td>\n      <td>0051d9b12e72_study</td>\n      <td>0.0</td>\n      <td>0.0</td>\n      <td>0.0</td>\n      <td>1.0</td>\n      <td>bb4b1da810f3_image</td>\n      <td>[{'x': 812.54698, 'y': 1376.41291, 'width': 62...</td>\n      <td>opacity 1 812.54698 1376.41291 1435.14793 1806...</td>\n      <td>e2dbb0ae5e50</td>\n      <td>False</td>\n    </tr>\n    <tr>\n      <th>...</th>\n      <td>...</td>\n      <td>...</td>\n      <td>...</td>\n      <td>...</td>\n      <td>...</td>\n      <td>...</td>\n      <td>...</td>\n      <td>...</td>\n      <td>...</td>\n      <td>...</td>\n      <td>...</td>\n      <td>...</td>\n    </tr>\n    <tr>\n      <th>6936</th>\n      <td>6936</td>\n      <td>6936</td>\n      <td>efa145c8f465_study</td>\n      <td>0.0</td>\n      <td>1.0</td>\n      <td>0.0</td>\n      <td>0.0</td>\n      <td>efa145c8f465_image</td>\n      <td>NaN</td>\n      <td>none 1 0 0 1 1</td>\n      <td>efa145c8f465_study</td>\n      <td>True</td>\n    </tr>\n    <tr>\n      <th>6937</th>\n      <td>6937</td>\n      <td>6937</td>\n      <td>b19e48fcf465_study</td>\n      <td>0.0</td>\n      <td>0.0</td>\n      <td>1.0</td>\n      <td>0.0</td>\n      <td>b19e48fcf465_image</td>\n      <td>NaN</td>\n      <td>none 1 0 0 1 1</td>\n      <td>b19e48fcf465_study</td>\n      <td>True</td>\n    </tr>\n    <tr>\n      <th>6938</th>\n      <td>6938</td>\n      <td>6938</td>\n      <td>ef60d286f465_study</td>\n      <td>1.0</td>\n      <td>0.0</td>\n      <td>0.0</td>\n      <td>0.0</td>\n      <td>ef60d286f465_image</td>\n      <td>NaN</td>\n      <td>none 1 0 0 1 1</td>\n      <td>ef60d286f465_study</td>\n      <td>True</td>\n    </tr>\n    <tr>\n      <th>6939</th>\n      <td>6939</td>\n      <td>6939</td>\n      <td>a39ee89cf465_study</td>\n      <td>0.0</td>\n      <td>0.0</td>\n      <td>1.0</td>\n      <td>0.0</td>\n      <td>a39ee89cf465_image</td>\n      <td>NaN</td>\n      <td>none 1 0 0 1 1</td>\n      <td>a39ee89cf465_study</td>\n      <td>True</td>\n    </tr>\n    <tr>\n      <th>6940</th>\n      <td>6940</td>\n      <td>6940</td>\n      <td>5596363cf465_study</td>\n      <td>0.0</td>\n      <td>1.0</td>\n      <td>0.0</td>\n      <td>0.0</td>\n      <td>5596363cf465_image</td>\n      <td>NaN</td>\n      <td>none 1 0 0 1 1</td>\n      <td>5596363cf465_study</td>\n      <td>True</td>\n    </tr>\n  </tbody>\n</table>\n<p>6941 rows × 12 columns</p>\n</div>",
      "text/plain": "      Unnamed: 0  Unnamed: 0.1    StudyInstanceUID  Negative for Pneumonia  \\\n0              0             0  00086460a852_study                     0.0   \n1              1             1  000c9c05fd14_study                     0.0   \n2              2             2  00292f8c37bd_study                     1.0   \n3              3             3  005057b3f880_study                     1.0   \n4              4             4  0051d9b12e72_study                     0.0   \n...          ...           ...                 ...                     ...   \n6936        6936          6936  efa145c8f465_study                     0.0   \n6937        6937          6937  b19e48fcf465_study                     0.0   \n6938        6938          6938  ef60d286f465_study                     1.0   \n6939        6939          6939  a39ee89cf465_study                     0.0   \n6940        6940          6940  5596363cf465_study                     0.0   \n\n      Typical Appearance  Indeterminate Appearance  Atypical Appearance  \\\n0                    1.0                       0.0                  0.0   \n1                    0.0                       0.0                  1.0   \n2                    0.0                       0.0                  0.0   \n3                    0.0                       0.0                  0.0   \n4                    0.0                       0.0                  1.0   \n...                  ...                       ...                  ...   \n6936                 1.0                       0.0                  0.0   \n6937                 0.0                       1.0                  0.0   \n6938                 0.0                       0.0                  0.0   \n6939                 0.0                       1.0                  0.0   \n6940                 1.0                       0.0                  0.0   \n\n                      id                                              boxes  \\\n0     65761e66de9f_image  [{'x': 720.65215, 'y': 636.51048, 'width': 332...   \n1     51759b5579bc_image                                                NaN   \n2     f6293b1c49e2_image                                                NaN   \n3     3019399c31f4_image                                                NaN   \n4     bb4b1da810f3_image  [{'x': 812.54698, 'y': 1376.41291, 'width': 62...   \n...                  ...                                                ...   \n6936  efa145c8f465_image                                                NaN   \n6937  b19e48fcf465_image                                                NaN   \n6938  ef60d286f465_image                                                NaN   \n6939  a39ee89cf465_image                                                NaN   \n6940  5596363cf465_image                                                NaN   \n\n                                                  label           PatientID  \\\n0     opacity 1 720.65215 636.51048 1052.84563 1284....        7d3bf0aef747   \n1                                        none 1 0 0 1 1        2c00dc1ead80   \n2                                        none 1 0 0 1 1        f942cf0989ff   \n3                                        none 1 0 0 1 1        f1894c76ef7b   \n4     opacity 1 812.54698 1376.41291 1435.14793 1806...        e2dbb0ae5e50   \n...                                                 ...                 ...   \n6936                                     none 1 0 0 1 1  efa145c8f465_study   \n6937                                     none 1 0 0 1 1  b19e48fcf465_study   \n6938                                     none 1 0 0 1 1  ef60d286f465_study   \n6939                                     none 1 0 0 1 1  a39ee89cf465_study   \n6940                                     none 1 0 0 1 1  5596363cf465_study   \n\n      merge  \n0     False  \n1     False  \n2     False  \n3     False  \n4     False  \n...     ...  \n6936   True  \n6937   True  \n6938   True  \n6939   True  \n6940   True  \n\n[6941 rows x 12 columns]"
     },
     "execution_count": 5,
     "metadata": {},
     "output_type": "execute_result"
    }
   ],
   "source": [
    "df"
   ]
  },
  {
   "cell_type": "code",
   "execution_count": 7,
   "metadata": {},
   "outputs": [
    {
     "data": {
      "text/html": "<div>\n<style scoped>\n    .dataframe tbody tr th:only-of-type {\n        vertical-align: middle;\n    }\n\n    .dataframe tbody tr th {\n        vertical-align: top;\n    }\n\n    .dataframe thead th {\n        text-align: right;\n    }\n</style>\n<table border=\"1\" class=\"dataframe\">\n  <thead>\n    <tr style=\"text-align: right;\">\n      <th></th>\n      <th>Image Index</th>\n      <th>Finding Labels</th>\n      <th>Follow-up #</th>\n      <th>Patient ID</th>\n      <th>Patient Age</th>\n      <th>Patient Gender</th>\n      <th>View Position</th>\n      <th>OriginalImage[Width</th>\n      <th>Height]</th>\n      <th>OriginalImagePixelSpacing[x</th>\n      <th>y]</th>\n      <th>Unnamed: 11</th>\n      <th>id</th>\n    </tr>\n  </thead>\n  <tbody>\n    <tr>\n      <th>457</th>\n      <td>00000116_006.png</td>\n      <td>Effusion</td>\n      <td>6</td>\n      <td>116</td>\n      <td>75</td>\n      <td>F</td>\n      <td>AP</td>\n      <td>2500</td>\n      <td>2048</td>\n      <td>0.168000</td>\n      <td>0.168000</td>\n      <td>NaN</td>\n      <td>3637984ef505.png</td>\n    </tr>\n    <tr>\n      <th>616</th>\n      <td>00000150_004.png</td>\n      <td>Atelectasis|Effusion</td>\n      <td>4</td>\n      <td>150</td>\n      <td>55</td>\n      <td>F</td>\n      <td>PA</td>\n      <td>2544</td>\n      <td>3056</td>\n      <td>0.139000</td>\n      <td>0.139000</td>\n      <td>NaN</td>\n      <td>0621f780f505.png</td>\n    </tr>\n    <tr>\n      <th>1097</th>\n      <td>00000270_002.png</td>\n      <td>Atelectasis</td>\n      <td>2</td>\n      <td>270</td>\n      <td>52</td>\n      <td>F</td>\n      <td>PA</td>\n      <td>2500</td>\n      <td>2048</td>\n      <td>0.168000</td>\n      <td>0.168000</td>\n      <td>NaN</td>\n      <td>4668884af505.png</td>\n    </tr>\n    <tr>\n      <th>1123</th>\n      <td>00000275_001.png</td>\n      <td>Atelectasis|Consolidation</td>\n      <td>1</td>\n      <td>275</td>\n      <td>60</td>\n      <td>F</td>\n      <td>AP</td>\n      <td>3056</td>\n      <td>2544</td>\n      <td>0.139000</td>\n      <td>0.139000</td>\n      <td>NaN</td>\n      <td>3637984ef505.png</td>\n    </tr>\n    <tr>\n      <th>1910</th>\n      <td>00000494_006.png</td>\n      <td>No Finding</td>\n      <td>6</td>\n      <td>494</td>\n      <td>67</td>\n      <td>F</td>\n      <td>PA</td>\n      <td>2614</td>\n      <td>2991</td>\n      <td>0.143000</td>\n      <td>0.143000</td>\n      <td>NaN</td>\n      <td>0621f780f505.png</td>\n    </tr>\n    <tr>\n      <th>4161</th>\n      <td>00001125_001.png</td>\n      <td>No Finding</td>\n      <td>1</td>\n      <td>1125</td>\n      <td>52</td>\n      <td>M</td>\n      <td>PA</td>\n      <td>2992</td>\n      <td>2991</td>\n      <td>0.143000</td>\n      <td>0.143000</td>\n      <td>NaN</td>\n      <td>4668884af505.png</td>\n    </tr>\n    <tr>\n      <th>6372</th>\n      <td>00001719_003.png</td>\n      <td>No Finding</td>\n      <td>3</td>\n      <td>1719</td>\n      <td>15</td>\n      <td>M</td>\n      <td>PA</td>\n      <td>2500</td>\n      <td>2048</td>\n      <td>0.168000</td>\n      <td>0.168000</td>\n      <td>NaN</td>\n      <td>f0b68d68f502.png</td>\n    </tr>\n    <tr>\n      <th>7930</th>\n      <td>00002072_010.png</td>\n      <td>Atelectasis|Infiltration</td>\n      <td>10</td>\n      <td>2072</td>\n      <td>10</td>\n      <td>M</td>\n      <td>AP</td>\n      <td>2500</td>\n      <td>2048</td>\n      <td>0.171000</td>\n      <td>0.171000</td>\n      <td>NaN</td>\n      <td>f0b68d68f502.png</td>\n    </tr>\n    <tr>\n      <th>11698</th>\n      <td>00003062_003.png</td>\n      <td>Pneumothorax</td>\n      <td>3</td>\n      <td>3062</td>\n      <td>48</td>\n      <td>F</td>\n      <td>PA</td>\n      <td>2992</td>\n      <td>2991</td>\n      <td>0.143000</td>\n      <td>0.143000</td>\n      <td>NaN</td>\n      <td>d39da88cf503.png</td>\n    </tr>\n    <tr>\n      <th>13073</th>\n      <td>00003403_000.png</td>\n      <td>Pneumothorax</td>\n      <td>0</td>\n      <td>3403</td>\n      <td>43</td>\n      <td>F</td>\n      <td>PA</td>\n      <td>2862</td>\n      <td>2937</td>\n      <td>0.143000</td>\n      <td>0.143000</td>\n      <td>NaN</td>\n      <td>d39da88cf503.png</td>\n    </tr>\n    <tr>\n      <th>18034</th>\n      <td>00004833_016.png</td>\n      <td>No Finding</td>\n      <td>16</td>\n      <td>4833</td>\n      <td>27</td>\n      <td>M</td>\n      <td>AP</td>\n      <td>2500</td>\n      <td>2048</td>\n      <td>0.171000</td>\n      <td>0.171000</td>\n      <td>NaN</td>\n      <td>1aafe778f4fd.png</td>\n    </tr>\n    <tr>\n      <th>18491</th>\n      <td>00004911_010.png</td>\n      <td>Nodule</td>\n      <td>10</td>\n      <td>4911</td>\n      <td>47</td>\n      <td>F</td>\n      <td>PA</td>\n      <td>2992</td>\n      <td>2991</td>\n      <td>0.143000</td>\n      <td>0.143000</td>\n      <td>NaN</td>\n      <td>1aafe778f4fd.png</td>\n    </tr>\n    <tr>\n      <th>25805</th>\n      <td>00006783_002.png</td>\n      <td>Effusion</td>\n      <td>2</td>\n      <td>6783</td>\n      <td>70</td>\n      <td>M</td>\n      <td>PA</td>\n      <td>2500</td>\n      <td>2048</td>\n      <td>0.171000</td>\n      <td>0.171000</td>\n      <td>NaN</td>\n      <td>ebebbaf2f506.png</td>\n    </tr>\n    <tr>\n      <th>26008</th>\n      <td>00006832_015.png</td>\n      <td>Atelectasis|Infiltration|Mass</td>\n      <td>15</td>\n      <td>6832</td>\n      <td>20</td>\n      <td>M</td>\n      <td>PA</td>\n      <td>2500</td>\n      <td>2048</td>\n      <td>0.168000</td>\n      <td>0.168000</td>\n      <td>NaN</td>\n      <td>2a3f25f0f507.png</td>\n    </tr>\n    <tr>\n      <th>26179</th>\n      <td>00006874_002.png</td>\n      <td>No Finding</td>\n      <td>2</td>\n      <td>6874</td>\n      <td>55</td>\n      <td>F</td>\n      <td>PA</td>\n      <td>2048</td>\n      <td>2500</td>\n      <td>0.171000</td>\n      <td>0.171000</td>\n      <td>NaN</td>\n      <td>2a3f25f0f507.png</td>\n    </tr>\n    <tr>\n      <th>28822</th>\n      <td>00007526_015.png</td>\n      <td>No Finding</td>\n      <td>15</td>\n      <td>7526</td>\n      <td>62</td>\n      <td>M</td>\n      <td>PA</td>\n      <td>2500</td>\n      <td>2048</td>\n      <td>0.168000</td>\n      <td>0.168000</td>\n      <td>NaN</td>\n      <td>ebebbaf2f506.png</td>\n    </tr>\n    <tr>\n      <th>35508</th>\n      <td>00009361_012.png</td>\n      <td>Effusion</td>\n      <td>12</td>\n      <td>9361</td>\n      <td>53</td>\n      <td>M</td>\n      <td>PA</td>\n      <td>2798</td>\n      <td>2991</td>\n      <td>0.143000</td>\n      <td>0.143000</td>\n      <td>NaN</td>\n      <td>d4758cb4f505.png</td>\n    </tr>\n    <tr>\n      <th>38056</th>\n      <td>00009996_024.png</td>\n      <td>No Finding</td>\n      <td>24</td>\n      <td>9996</td>\n      <td>71</td>\n      <td>M</td>\n      <td>PA</td>\n      <td>2686</td>\n      <td>2809</td>\n      <td>0.143000</td>\n      <td>0.143000</td>\n      <td>NaN</td>\n      <td>d4758cb4f505.png</td>\n    </tr>\n    <tr>\n      <th>49409</th>\n      <td>00012532_006.png</td>\n      <td>No Finding</td>\n      <td>6</td>\n      <td>12532</td>\n      <td>43</td>\n      <td>F</td>\n      <td>AP</td>\n      <td>2500</td>\n      <td>2048</td>\n      <td>0.168000</td>\n      <td>0.168000</td>\n      <td>NaN</td>\n      <td>f9dd39dcf507.png</td>\n    </tr>\n    <tr>\n      <th>50444</th>\n      <td>00012779_000.png</td>\n      <td>No Finding</td>\n      <td>0</td>\n      <td>12779</td>\n      <td>36</td>\n      <td>F</td>\n      <td>AP</td>\n      <td>2500</td>\n      <td>2048</td>\n      <td>0.168000</td>\n      <td>0.168000</td>\n      <td>NaN</td>\n      <td>f9dd39dcf507.png</td>\n    </tr>\n    <tr>\n      <th>55734</th>\n      <td>00013946_004.png</td>\n      <td>No Finding</td>\n      <td>4</td>\n      <td>13946</td>\n      <td>41</td>\n      <td>F</td>\n      <td>AP</td>\n      <td>3056</td>\n      <td>2544</td>\n      <td>0.139000</td>\n      <td>0.139000</td>\n      <td>NaN</td>\n      <td>1916ee8af501.png</td>\n    </tr>\n    <tr>\n      <th>56156</th>\n      <td>00014004_037.png</td>\n      <td>Infiltration|Nodule</td>\n      <td>37</td>\n      <td>14004</td>\n      <td>58</td>\n      <td>F</td>\n      <td>AP</td>\n      <td>3056</td>\n      <td>2544</td>\n      <td>0.139000</td>\n      <td>0.139000</td>\n      <td>NaN</td>\n      <td>82876c1ef501.png</td>\n    </tr>\n    <tr>\n      <th>56865</th>\n      <td>00014129_004.png</td>\n      <td>No Finding</td>\n      <td>4</td>\n      <td>14129</td>\n      <td>63</td>\n      <td>M</td>\n      <td>PA</td>\n      <td>2992</td>\n      <td>2991</td>\n      <td>0.143000</td>\n      <td>0.143000</td>\n      <td>NaN</td>\n      <td>7a3d06d6f501.png</td>\n    </tr>\n    <tr>\n      <th>57272</th>\n      <td>00014203_066.png</td>\n      <td>Mass</td>\n      <td>66</td>\n      <td>14203</td>\n      <td>31</td>\n      <td>M</td>\n      <td>AP</td>\n      <td>2500</td>\n      <td>2048</td>\n      <td>0.168000</td>\n      <td>0.168000</td>\n      <td>NaN</td>\n      <td>82876c1ef501.png</td>\n    </tr>\n    <tr>\n      <th>57408</th>\n      <td>00014245_002.png</td>\n      <td>No Finding</td>\n      <td>2</td>\n      <td>14245</td>\n      <td>4</td>\n      <td>F</td>\n      <td>PA</td>\n      <td>1932</td>\n      <td>2163</td>\n      <td>0.143000</td>\n      <td>0.143000</td>\n      <td>NaN</td>\n      <td>1916ee8af501.png</td>\n    </tr>\n    <tr>\n      <th>58588</th>\n      <td>00014492_004.png</td>\n      <td>Infiltration</td>\n      <td>4</td>\n      <td>14492</td>\n      <td>46</td>\n      <td>M</td>\n      <td>PA</td>\n      <td>2558</td>\n      <td>2991</td>\n      <td>0.143000</td>\n      <td>0.143000</td>\n      <td>NaN</td>\n      <td>7a3d06d6f501.png</td>\n    </tr>\n    <tr>\n      <th>69312</th>\n      <td>00017110_001.png</td>\n      <td>Pneumothorax</td>\n      <td>1</td>\n      <td>17110</td>\n      <td>60</td>\n      <td>F</td>\n      <td>PA</td>\n      <td>2048</td>\n      <td>2500</td>\n      <td>0.168000</td>\n      <td>0.168000</td>\n      <td>NaN</td>\n      <td>0a69b878f500.png</td>\n    </tr>\n    <tr>\n      <th>74463</th>\n      <td>00018266_000.png</td>\n      <td>No Finding</td>\n      <td>0</td>\n      <td>18266</td>\n      <td>26</td>\n      <td>F</td>\n      <td>PA</td>\n      <td>2992</td>\n      <td>2991</td>\n      <td>0.143000</td>\n      <td>0.143000</td>\n      <td>NaN</td>\n      <td>0a69b878f500.png</td>\n    </tr>\n    <tr>\n      <th>77678</th>\n      <td>00019089_015.png</td>\n      <td>Infiltration|Mass|Pleural_Thickening</td>\n      <td>15</td>\n      <td>19089</td>\n      <td>27</td>\n      <td>F</td>\n      <td>AP</td>\n      <td>3056</td>\n      <td>2544</td>\n      <td>0.139000</td>\n      <td>0.139000</td>\n      <td>NaN</td>\n      <td>907b4428f4ff.png</td>\n    </tr>\n    <tr>\n      <th>79901</th>\n      <td>00019635_001.png</td>\n      <td>Nodule|Pneumothorax</td>\n      <td>1</td>\n      <td>19635</td>\n      <td>72</td>\n      <td>M</td>\n      <td>PA</td>\n      <td>2992</td>\n      <td>2991</td>\n      <td>0.143000</td>\n      <td>0.143000</td>\n      <td>NaN</td>\n      <td>907b4428f4ff.png</td>\n    </tr>\n    <tr>\n      <th>97262</th>\n      <td>00025657_001.png</td>\n      <td>No Finding</td>\n      <td>1</td>\n      <td>25657</td>\n      <td>64</td>\n      <td>F</td>\n      <td>PA</td>\n      <td>2992</td>\n      <td>2991</td>\n      <td>0.143000</td>\n      <td>0.143000</td>\n      <td>NaN</td>\n      <td>b5b0c4f2f504.png</td>\n    </tr>\n    <tr>\n      <th>98905</th>\n      <td>00026148_002.png</td>\n      <td>No Finding</td>\n      <td>2</td>\n      <td>26148</td>\n      <td>36</td>\n      <td>M</td>\n      <td>PA</td>\n      <td>2021</td>\n      <td>2021</td>\n      <td>0.194311</td>\n      <td>0.194311</td>\n      <td>NaN</td>\n      <td>0b8f7d1af504.png</td>\n    </tr>\n    <tr>\n      <th>100244</th>\n      <td>00026562_002.png</td>\n      <td>Effusion|Infiltration</td>\n      <td>2</td>\n      <td>26562</td>\n      <td>47</td>\n      <td>M</td>\n      <td>PA</td>\n      <td>2890</td>\n      <td>2991</td>\n      <td>0.143000</td>\n      <td>0.143000</td>\n      <td>NaN</td>\n      <td>b5b0c4f2f504.png</td>\n    </tr>\n    <tr>\n      <th>100425</th>\n      <td>00026625_001.png</td>\n      <td>No Finding</td>\n      <td>1</td>\n      <td>26625</td>\n      <td>53</td>\n      <td>F</td>\n      <td>AP</td>\n      <td>3056</td>\n      <td>2544</td>\n      <td>0.139000</td>\n      <td>0.139000</td>\n      <td>NaN</td>\n      <td>0b8f7d1af504.png</td>\n    </tr>\n    <tr>\n      <th>102009</th>\n      <td>00027142_008.png</td>\n      <td>Atelectasis|Pneumothorax</td>\n      <td>8</td>\n      <td>27142</td>\n      <td>56</td>\n      <td>F</td>\n      <td>PA</td>\n      <td>2992</td>\n      <td>2991</td>\n      <td>0.143000</td>\n      <td>0.143000</td>\n      <td>NaN</td>\n      <td>62e51d68f504.png</td>\n    </tr>\n    <tr>\n      <th>104506</th>\n      <td>00027943_001.png</td>\n      <td>No Finding</td>\n      <td>1</td>\n      <td>27943</td>\n      <td>63</td>\n      <td>M</td>\n      <td>AP</td>\n      <td>3056</td>\n      <td>2544</td>\n      <td>0.139000</td>\n      <td>0.139000</td>\n      <td>NaN</td>\n      <td>62e51d68f504.png</td>\n    </tr>\n    <tr>\n      <th>105018</th>\n      <td>00028179_000.png</td>\n      <td>Infiltration</td>\n      <td>0</td>\n      <td>28179</td>\n      <td>62</td>\n      <td>M</td>\n      <td>PA</td>\n      <td>2021</td>\n      <td>2021</td>\n      <td>0.194311</td>\n      <td>0.194311</td>\n      <td>NaN</td>\n      <td>4518bb06f4fe.png</td>\n    </tr>\n    <tr>\n      <th>107127</th>\n      <td>00028898_000.png</td>\n      <td>No Finding</td>\n      <td>0</td>\n      <td>28898</td>\n      <td>47</td>\n      <td>M</td>\n      <td>PA</td>\n      <td>2021</td>\n      <td>2021</td>\n      <td>0.194311</td>\n      <td>0.194311</td>\n      <td>NaN</td>\n      <td>ab51bd46f4fe.png</td>\n    </tr>\n    <tr>\n      <th>107722</th>\n      <td>00029108_003.png</td>\n      <td>Consolidation</td>\n      <td>3</td>\n      <td>29108</td>\n      <td>33</td>\n      <td>M</td>\n      <td>AP</td>\n      <td>3056</td>\n      <td>2544</td>\n      <td>0.139000</td>\n      <td>0.139000</td>\n      <td>NaN</td>\n      <td>c1bca41af4fe.png</td>\n    </tr>\n    <tr>\n      <th>108182</th>\n      <td>00029279_002.png</td>\n      <td>No Finding</td>\n      <td>2</td>\n      <td>29279</td>\n      <td>27</td>\n      <td>F</td>\n      <td>AP</td>\n      <td>3056</td>\n      <td>2544</td>\n      <td>0.139000</td>\n      <td>0.139000</td>\n      <td>NaN</td>\n      <td>c1bca41af4fe.png</td>\n    </tr>\n    <tr>\n      <th>108730</th>\n      <td>00029502_001.png</td>\n      <td>Consolidation</td>\n      <td>1</td>\n      <td>29502</td>\n      <td>54</td>\n      <td>M</td>\n      <td>AP</td>\n      <td>3056</td>\n      <td>2544</td>\n      <td>0.139000</td>\n      <td>0.139000</td>\n      <td>NaN</td>\n      <td>ab51bd46f4fe.png</td>\n    </tr>\n    <tr>\n      <th>108732</th>\n      <td>00029502_003.png</td>\n      <td>No Finding</td>\n      <td>3</td>\n      <td>29502</td>\n      <td>54</td>\n      <td>M</td>\n      <td>AP</td>\n      <td>3056</td>\n      <td>2544</td>\n      <td>0.139000</td>\n      <td>0.139000</td>\n      <td>NaN</td>\n      <td>9323384ef4fe.png</td>\n    </tr>\n    <tr>\n      <th>108752</th>\n      <td>00029508_000.png</td>\n      <td>No Finding</td>\n      <td>0</td>\n      <td>29508</td>\n      <td>31</td>\n      <td>M</td>\n      <td>PA</td>\n      <td>2021</td>\n      <td>2021</td>\n      <td>0.194311</td>\n      <td>0.194311</td>\n      <td>NaN</td>\n      <td>9323384ef4fe.png</td>\n    </tr>\n    <tr>\n      <th>109919</th>\n      <td>00029903_010.png</td>\n      <td>No Finding</td>\n      <td>10</td>\n      <td>29903</td>\n      <td>26</td>\n      <td>M</td>\n      <td>PA</td>\n      <td>3056</td>\n      <td>2544</td>\n      <td>0.139000</td>\n      <td>0.139000</td>\n      <td>NaN</td>\n      <td>4518bb06f4fe.png</td>\n    </tr>\n  </tbody>\n</table>\n</div>",
      "text/plain": "             Image Index                        Finding Labels  Follow-up #  \\\n457     00000116_006.png                              Effusion            6   \n616     00000150_004.png                  Atelectasis|Effusion            4   \n1097    00000270_002.png                           Atelectasis            2   \n1123    00000275_001.png             Atelectasis|Consolidation            1   \n1910    00000494_006.png                            No Finding            6   \n4161    00001125_001.png                            No Finding            1   \n6372    00001719_003.png                            No Finding            3   \n7930    00002072_010.png              Atelectasis|Infiltration           10   \n11698   00003062_003.png                          Pneumothorax            3   \n13073   00003403_000.png                          Pneumothorax            0   \n18034   00004833_016.png                            No Finding           16   \n18491   00004911_010.png                                Nodule           10   \n25805   00006783_002.png                              Effusion            2   \n26008   00006832_015.png         Atelectasis|Infiltration|Mass           15   \n26179   00006874_002.png                            No Finding            2   \n28822   00007526_015.png                            No Finding           15   \n35508   00009361_012.png                              Effusion           12   \n38056   00009996_024.png                            No Finding           24   \n49409   00012532_006.png                            No Finding            6   \n50444   00012779_000.png                            No Finding            0   \n55734   00013946_004.png                            No Finding            4   \n56156   00014004_037.png                   Infiltration|Nodule           37   \n56865   00014129_004.png                            No Finding            4   \n57272   00014203_066.png                                  Mass           66   \n57408   00014245_002.png                            No Finding            2   \n58588   00014492_004.png                          Infiltration            4   \n69312   00017110_001.png                          Pneumothorax            1   \n74463   00018266_000.png                            No Finding            0   \n77678   00019089_015.png  Infiltration|Mass|Pleural_Thickening           15   \n79901   00019635_001.png                   Nodule|Pneumothorax            1   \n97262   00025657_001.png                            No Finding            1   \n98905   00026148_002.png                            No Finding            2   \n100244  00026562_002.png                 Effusion|Infiltration            2   \n100425  00026625_001.png                            No Finding            1   \n102009  00027142_008.png              Atelectasis|Pneumothorax            8   \n104506  00027943_001.png                            No Finding            1   \n105018  00028179_000.png                          Infiltration            0   \n107127  00028898_000.png                            No Finding            0   \n107722  00029108_003.png                         Consolidation            3   \n108182  00029279_002.png                            No Finding            2   \n108730  00029502_001.png                         Consolidation            1   \n108732  00029502_003.png                            No Finding            3   \n108752  00029508_000.png                            No Finding            0   \n109919  00029903_010.png                            No Finding           10   \n\n        Patient ID  Patient Age Patient Gender View Position  \\\n457            116           75              F            AP   \n616            150           55              F            PA   \n1097           270           52              F            PA   \n1123           275           60              F            AP   \n1910           494           67              F            PA   \n4161          1125           52              M            PA   \n6372          1719           15              M            PA   \n7930          2072           10              M            AP   \n11698         3062           48              F            PA   \n13073         3403           43              F            PA   \n18034         4833           27              M            AP   \n18491         4911           47              F            PA   \n25805         6783           70              M            PA   \n26008         6832           20              M            PA   \n26179         6874           55              F            PA   \n28822         7526           62              M            PA   \n35508         9361           53              M            PA   \n38056         9996           71              M            PA   \n49409        12532           43              F            AP   \n50444        12779           36              F            AP   \n55734        13946           41              F            AP   \n56156        14004           58              F            AP   \n56865        14129           63              M            PA   \n57272        14203           31              M            AP   \n57408        14245            4              F            PA   \n58588        14492           46              M            PA   \n69312        17110           60              F            PA   \n74463        18266           26              F            PA   \n77678        19089           27              F            AP   \n79901        19635           72              M            PA   \n97262        25657           64              F            PA   \n98905        26148           36              M            PA   \n100244       26562           47              M            PA   \n100425       26625           53              F            AP   \n102009       27142           56              F            PA   \n104506       27943           63              M            AP   \n105018       28179           62              M            PA   \n107127       28898           47              M            PA   \n107722       29108           33              M            AP   \n108182       29279           27              F            AP   \n108730       29502           54              M            AP   \n108732       29502           54              M            AP   \n108752       29508           31              M            PA   \n109919       29903           26              M            PA   \n\n        OriginalImage[Width  Height]  OriginalImagePixelSpacing[x        y]  \\\n457                    2500     2048                     0.168000  0.168000   \n616                    2544     3056                     0.139000  0.139000   \n1097                   2500     2048                     0.168000  0.168000   \n1123                   3056     2544                     0.139000  0.139000   \n1910                   2614     2991                     0.143000  0.143000   \n4161                   2992     2991                     0.143000  0.143000   \n6372                   2500     2048                     0.168000  0.168000   \n7930                   2500     2048                     0.171000  0.171000   \n11698                  2992     2991                     0.143000  0.143000   \n13073                  2862     2937                     0.143000  0.143000   \n18034                  2500     2048                     0.171000  0.171000   \n18491                  2992     2991                     0.143000  0.143000   \n25805                  2500     2048                     0.171000  0.171000   \n26008                  2500     2048                     0.168000  0.168000   \n26179                  2048     2500                     0.171000  0.171000   \n28822                  2500     2048                     0.168000  0.168000   \n35508                  2798     2991                     0.143000  0.143000   \n38056                  2686     2809                     0.143000  0.143000   \n49409                  2500     2048                     0.168000  0.168000   \n50444                  2500     2048                     0.168000  0.168000   \n55734                  3056     2544                     0.139000  0.139000   \n56156                  3056     2544                     0.139000  0.139000   \n56865                  2992     2991                     0.143000  0.143000   \n57272                  2500     2048                     0.168000  0.168000   \n57408                  1932     2163                     0.143000  0.143000   \n58588                  2558     2991                     0.143000  0.143000   \n69312                  2048     2500                     0.168000  0.168000   \n74463                  2992     2991                     0.143000  0.143000   \n77678                  3056     2544                     0.139000  0.139000   \n79901                  2992     2991                     0.143000  0.143000   \n97262                  2992     2991                     0.143000  0.143000   \n98905                  2021     2021                     0.194311  0.194311   \n100244                 2890     2991                     0.143000  0.143000   \n100425                 3056     2544                     0.139000  0.139000   \n102009                 2992     2991                     0.143000  0.143000   \n104506                 3056     2544                     0.139000  0.139000   \n105018                 2021     2021                     0.194311  0.194311   \n107127                 2021     2021                     0.194311  0.194311   \n107722                 3056     2544                     0.139000  0.139000   \n108182                 3056     2544                     0.139000  0.139000   \n108730                 3056     2544                     0.139000  0.139000   \n108732                 3056     2544                     0.139000  0.139000   \n108752                 2021     2021                     0.194311  0.194311   \n109919                 3056     2544                     0.139000  0.139000   \n\n        Unnamed: 11                id  \n457             NaN  3637984ef505.png  \n616             NaN  0621f780f505.png  \n1097            NaN  4668884af505.png  \n1123            NaN  3637984ef505.png  \n1910            NaN  0621f780f505.png  \n4161            NaN  4668884af505.png  \n6372            NaN  f0b68d68f502.png  \n7930            NaN  f0b68d68f502.png  \n11698           NaN  d39da88cf503.png  \n13073           NaN  d39da88cf503.png  \n18034           NaN  1aafe778f4fd.png  \n18491           NaN  1aafe778f4fd.png  \n25805           NaN  ebebbaf2f506.png  \n26008           NaN  2a3f25f0f507.png  \n26179           NaN  2a3f25f0f507.png  \n28822           NaN  ebebbaf2f506.png  \n35508           NaN  d4758cb4f505.png  \n38056           NaN  d4758cb4f505.png  \n49409           NaN  f9dd39dcf507.png  \n50444           NaN  f9dd39dcf507.png  \n55734           NaN  1916ee8af501.png  \n56156           NaN  82876c1ef501.png  \n56865           NaN  7a3d06d6f501.png  \n57272           NaN  82876c1ef501.png  \n57408           NaN  1916ee8af501.png  \n58588           NaN  7a3d06d6f501.png  \n69312           NaN  0a69b878f500.png  \n74463           NaN  0a69b878f500.png  \n77678           NaN  907b4428f4ff.png  \n79901           NaN  907b4428f4ff.png  \n97262           NaN  b5b0c4f2f504.png  \n98905           NaN  0b8f7d1af504.png  \n100244          NaN  b5b0c4f2f504.png  \n100425          NaN  0b8f7d1af504.png  \n102009          NaN  62e51d68f504.png  \n104506          NaN  62e51d68f504.png  \n105018          NaN  4518bb06f4fe.png  \n107127          NaN  ab51bd46f4fe.png  \n107722          NaN  c1bca41af4fe.png  \n108182          NaN  c1bca41af4fe.png  \n108730          NaN  ab51bd46f4fe.png  \n108732          NaN  9323384ef4fe.png  \n108752          NaN  9323384ef4fe.png  \n109919          NaN  4518bb06f4fe.png  "
     },
     "execution_count": 7,
     "metadata": {},
     "output_type": "execute_result"
    }
   ],
   "source": [
    "import pandas as pd\n",
    "df = pd.read_csv(\"./data-nih/train.csv\")\n",
    "# df[~df[\"id\"].duplicated()].reset_index(drop=True)\n",
    "df[df[\"id\"].duplicated(keep=False)]"
   ]
  }
 ],
 "metadata": {
  "kernelspec": {
   "display_name": "Python 3.7.10 64-bit ('siim-covid': conda)",
   "name": "python3710jvsc74a57bd055da4bfabaa72f6d23e190de73e880f50e1e61f38162ba3c994fd2cd39574748"
  },
  "language_info": {
   "codemirror_mode": {
    "name": "ipython",
    "version": 3
   },
   "file_extension": ".py",
   "mimetype": "text/x-python",
   "name": "python",
   "nbconvert_exporter": "python",
   "pygments_lexer": "ipython3",
   "version": "3.7.10"
  },
  "metadata": {
   "interpreter": {
    "hash": "55da4bfabaa72f6d23e190de73e880f50e1e61f38162ba3c994fd2cd39574748"
   }
  },
  "orig_nbformat": 2
 },
 "nbformat": 4,
 "nbformat_minor": 2
}